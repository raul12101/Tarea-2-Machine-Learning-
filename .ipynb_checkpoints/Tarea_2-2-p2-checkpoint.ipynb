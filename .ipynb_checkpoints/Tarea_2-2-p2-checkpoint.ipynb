{
 "cells": [
  {
   "cell_type": "markdown",
   "metadata": {
    "id": "IbwtDKkSJxE9"
   },
   "source": [
    "EAE3709 APLICACIONES DE  MACHINE LEARNING EN ECONOMÍA <br>\n",
    "1ER SEMESTRE 2025 <br>\n",
    "INSTITUTO DE ECONOMÍA <br>\n",
    "PONTIFICIA UNIVERSIDAD CATÓLICA DE CHILE\n",
    "\n",
    "\n",
    "# **TAREA 2**\n",
    "\n",
    "\n",
    "---\n",
    "\n",
    "\n",
    "Profesor:\n",
    "- Joaquín Pérez Lapillo\n",
    "\n",
    "Ayudantes:\n",
    "\n",
    "- Luis García B.\n",
    "- Sebastián Hernández B.\n",
    "- Oscar Herrera G.\n"
   ]
  },
  {
   "cell_type": "markdown",
   "metadata": {
    "id": "xCs4syNLJ9Gh"
   },
   "source": [
    "**Complete sus datos:**\n",
    "\n",
    "- Nombre y apellido:\n",
    "  - `# Completar`\n",
    "  - `# Completar`\n",
    "- Usuario de GitHub (opcional):  `# Completar`\n"
   ]
  },
  {
   "cell_type": "markdown",
   "metadata": {
    "id": "tP_MIjWrKFqN"
   },
   "source": [
    "## Instrucciones\n",
    "\n",
    "- Descargue el notebook y cárguelo en su Drive.\n",
    "- Todas las preguntas deben ser contestadas en su notebook.\n",
    "- Para que una pregunta esté correcta el código debe correr.\n",
    "- Si es necesario, realice comentarios breves en su código explicando lo que está realizando o sus resultados.\n",
    "- Una vez culminada su tarea, suba su notebook al buzón de tareas de Canvas.\n",
    "- La fecha y hora límite de esta tarea es el _**viernes 30 de mayo a las 20:00 hrs**_.\n",
    "\n"
   ]
  },
  {
   "cell_type": "markdown",
   "metadata": {
    "id": "9pYuXYGfJ3a7"
   },
   "source": [
    "### Distribución de puntaje\n",
    "\n",
    "\n",
    "| Pregunta                        | Puntaje |\n",
    "|--------------------------------|---------|\n",
    "| Pregunta 1.0                   |    1    |\n",
    "| Pregunta 1.1                   |    2    |\n",
    "| Pregunta 1.2                   |    2    |\n",
    "| Pregunta 1.3                   |    2    |\n",
    "| Pregunta 1.4                   |    5    |\n",
    "| Pregunta 1.5                   |    5    |\n",
    "| Pregunta 1.6                   |    2    |\n",
    "| Pregunta 1.7                   |    2    |\n",
    "| Pregunta 1.8                   |    3    |\n",
    "| Pregunta 1.9                   |    3    |\n",
    "| Pregunta 1.10                   |    5    |\n",
    "| Pregunta 1.11                   |    5    |\n",
    "| Pregunta 1.12                   |    5    |\n",
    "| Pregunta 1.13                   |    3    |\n",
    "| Pregunta 1.13                   |    5    |\n",
    "| Pregunta 2.0                   |    1    |\n",
    "| Pregunta 2.1                   |    1    |\n",
    "| Pregunta 2.2                   |    1    |\n",
    "| Pregunta 2.3                   |    3    |\n",
    "| Pregunta 2.4                   |    5    |\n",
    "| Pregunta 2.5                   |    3    |\n",
    "| Pregunta 2.6                   |    3    |\n",
    "| Pregunta 2.7                   |    3    |\n",
    "| Pregunta 2.8                   |    5    |\n",
    "| Pregunta 2.9                   |    7    |\n",
    "| Pregunta 2.10                   |    4    |\n",
    "| Pregunta 2.11                   |    3    |\n",
    "| Pregunta 2.12                   |    1    |\n",
    "| Pregunta 2.13                   |    2    |\n",
    "| Pregunta 2.14                   |    3    |\n",
    "| Pregunta 2.15                   |    2    |\n",
    "| Pregunta 2.16                   |    3    |\n",
    "\n",
    "Total: 100 pts.\n"
   ]
  },
  {
   "cell_type": "markdown",
   "metadata": {
    "id": "b0fVGE4KKrOp"
   },
   "source": [
    "# KMeans & PCA\n",
    "\n",
    "La guerra comercial desatada levanta un montón de preguntas de interés en economía. Una de estas es: ¿Qué países sufrirán de forma similar las consecuencias de esta? ¿Quiénes serían ganadores? ¿Quienes serían perdedores?\n",
    "\n",
    "En esta parte exploraremos el aporte que los métodos de Clustering de Machine Learning pueden hacer a la respuesta de esta cuestión. Nos enfocaremos en variables relacionadas al comercio exterior para determinar similitud entre grupos de países. Más específicamente, en variables relacionadas a las exportaciones.\n",
    "\n",
    "Para esto, considere las siguientes variables que describen el perfil exportador de cada país:\n",
    "\n",
    "- GDP growth (annual %)\n",
    "- Agricultural raw materials exports (% of merchandise exports)\n",
    "- Computer, communications and other services (% of commercial service exports)\n",
    "- Exports of goods and services (% of GDP)\n",
    "- Food exports (% of merchandise exports)\n",
    "- Fuel exports (% of merchandise exports)\n",
    "- High-technology exports (% of manufactured exports)\n",
    "- ICT service exports (% of service exports, BoP)\n",
    "- Insurance and financial services (% of service exports, BoP)\n",
    "- International tourism, receipts (% of total exports)\n",
    "- Manufactures exports (% of merchandise exports)\n",
    "- Merchandise exports to high-income economies (% of total merchandise exports)\n",
    "- Merchandise exports to low- and middle-income economies in Europe & Central Asia (% of total merchandise exports)\n",
    "- Ores and metals exports (% of merchandise exports)\n",
    "- Taxes on exports (% of tax revenue)\n",
    "- Transport services (% of commercial service exports)\n",
    "\n",
    "\n",
    "La idea será determinar similitud entre países y las variables qué son más relevantes a la hora de determinarla.\n",
    "\n",
    "Debido a que 2023 es el año reciente con una mayor riqueza de datos, y debido a que nos interesan cambios respecto al _status quo_ en el contexto actual, trabajaremos con datos sólo de aquel año."
   ]
  },
  {
   "cell_type": "markdown",
   "metadata": {
    "id": "liNZQhDaaAeb"
   },
   "source": [
    "Database Source: World bank & Trade Analysis Information System.\n",
    "\n"
   ]
  },
  {
   "cell_type": "markdown",
   "metadata": {
    "id": "w-wV02TUaEPl"
   },
   "source": [
    "### Pregunta 2.0\n",
    "\n",
    "Cargue la base de datos disponible en el siguiente link: https://raw.githubusercontent.com/olherreragz/EAE3709-2025-1/refs/heads/main/T2_data/Data.cs.\n",
    "\n",
    "En el siguiente link podrá encontrar información adicional sobre el _dataset_ por si lo llega a necesitar: https://github.com/olherreragz/EAE3709-2025-1/blob/main/T2_data/Series_Metadata.csv.\n",
    "\n",
    "Elimine las columnas `\"Series Code\"` y `\"Country Code\"`. Luego, transforme su _dataframe_ de formato _Long_ a _Wide_. Su _dataframe_ final deberá contener una columna que indique el nombre del país y columnas que indiquen la medida de exportación correspondiente:\n",
    "\n",
    "`<Country>, <SeriesName1>, <SeriesName2> ....`\n",
    "\n",
    "\n",
    "\n",
    "![Long to Wide Format](https://tavareshugo.github.io/r-intro-tidyverse-gapminder/fig/07-data_shapes.png)\n",
    "\n",
    "\n"
   ]
  },
  {
   "cell_type": "code",
   "execution_count": 2,
   "metadata": {},
   "outputs": [],
   "source": [
    "import pandas as pd\n",
    "import numpy as np"
   ]
  },
  {
   "cell_type": "code",
   "execution_count": 5,
   "metadata": {
    "id": "2aDqXfqMq7kb"
   },
   "outputs": [
    {
     "data": {
      "text/html": [
       "<div>\n",
       "<style scoped>\n",
       "    .dataframe tbody tr th:only-of-type {\n",
       "        vertical-align: middle;\n",
       "    }\n",
       "\n",
       "    .dataframe tbody tr th {\n",
       "        vertical-align: top;\n",
       "    }\n",
       "\n",
       "    .dataframe thead th {\n",
       "        text-align: right;\n",
       "    }\n",
       "</style>\n",
       "<table border=\"1\" class=\"dataframe\">\n",
       "  <thead>\n",
       "    <tr style=\"text-align: right;\">\n",
       "      <th></th>\n",
       "      <th>Series Name</th>\n",
       "      <th>Series Code</th>\n",
       "      <th>Country Name</th>\n",
       "      <th>Country Code</th>\n",
       "      <th>2023 [YR2023]</th>\n",
       "    </tr>\n",
       "  </thead>\n",
       "  <tbody>\n",
       "    <tr>\n",
       "      <th>0</th>\n",
       "      <td>GDP growth (annual %)</td>\n",
       "      <td>NY.GDP.MKTP.KD.ZG</td>\n",
       "      <td>Afghanistan</td>\n",
       "      <td>AFG</td>\n",
       "      <td>2.71088679128353</td>\n",
       "    </tr>\n",
       "    <tr>\n",
       "      <th>1</th>\n",
       "      <td>GDP growth (annual %)</td>\n",
       "      <td>NY.GDP.MKTP.KD.ZG</td>\n",
       "      <td>Albania</td>\n",
       "      <td>ALB</td>\n",
       "      <td>3.93662525742167</td>\n",
       "    </tr>\n",
       "    <tr>\n",
       "      <th>2</th>\n",
       "      <td>GDP growth (annual %)</td>\n",
       "      <td>NY.GDP.MKTP.KD.ZG</td>\n",
       "      <td>Algeria</td>\n",
       "      <td>DZA</td>\n",
       "      <td>4.10000000000004</td>\n",
       "    </tr>\n",
       "    <tr>\n",
       "      <th>3</th>\n",
       "      <td>GDP growth (annual %)</td>\n",
       "      <td>NY.GDP.MKTP.KD.ZG</td>\n",
       "      <td>American Samoa</td>\n",
       "      <td>ASM</td>\n",
       "      <td>..</td>\n",
       "    </tr>\n",
       "    <tr>\n",
       "      <th>4</th>\n",
       "      <td>GDP growth (annual %)</td>\n",
       "      <td>NY.GDP.MKTP.KD.ZG</td>\n",
       "      <td>Andorra</td>\n",
       "      <td>AND</td>\n",
       "      <td>2.58355480961319</td>\n",
       "    </tr>\n",
       "  </tbody>\n",
       "</table>\n",
       "</div>"
      ],
      "text/plain": [
       "             Series Name        Series Code    Country Name Country Code  \\\n",
       "0  GDP growth (annual %)  NY.GDP.MKTP.KD.ZG     Afghanistan          AFG   \n",
       "1  GDP growth (annual %)  NY.GDP.MKTP.KD.ZG         Albania          ALB   \n",
       "2  GDP growth (annual %)  NY.GDP.MKTP.KD.ZG         Algeria          DZA   \n",
       "3  GDP growth (annual %)  NY.GDP.MKTP.KD.ZG  American Samoa          ASM   \n",
       "4  GDP growth (annual %)  NY.GDP.MKTP.KD.ZG         Andorra          AND   \n",
       "\n",
       "      2023 [YR2023]  \n",
       "0  2.71088679128353  \n",
       "1  3.93662525742167  \n",
       "2  4.10000000000004  \n",
       "3                ..  \n",
       "4  2.58355480961319  "
      ]
     },
     "execution_count": 5,
     "metadata": {},
     "output_type": "execute_result"
    }
   ],
   "source": [
    "#Importamos el url\n",
    "url = \"https://raw.githubusercontent.com/olherreragz/EAE3709-2025-1/refs/heads/main/T2_data/Data.csv\"\n",
    "df = pd.read_csv(url)\n",
    "df.head()"
   ]
  },
  {
   "cell_type": "code",
   "execution_count": 6,
   "metadata": {},
   "outputs": [],
   "source": [
    "#Eliminamos las columnas\n",
    "df.drop(columns=['Country Code', 'Series Code'], inplace=True)"
   ]
  },
  {
   "cell_type": "code",
   "execution_count": 9,
   "metadata": {
    "scrolled": true
   },
   "outputs": [
    {
     "data": {
      "text/html": [
       "<div>\n",
       "<style scoped>\n",
       "    .dataframe tbody tr th:only-of-type {\n",
       "        vertical-align: middle;\n",
       "    }\n",
       "\n",
       "    .dataframe tbody tr th {\n",
       "        vertical-align: top;\n",
       "    }\n",
       "\n",
       "    .dataframe thead th {\n",
       "        text-align: right;\n",
       "    }\n",
       "</style>\n",
       "<table border=\"1\" class=\"dataframe\">\n",
       "  <thead>\n",
       "    <tr style=\"text-align: right;\">\n",
       "      <th></th>\n",
       "      <th>Series Name</th>\n",
       "      <th>Country Name</th>\n",
       "      <th>2023 [YR2023]</th>\n",
       "    </tr>\n",
       "  </thead>\n",
       "  <tbody>\n",
       "    <tr>\n",
       "      <th>count</th>\n",
       "      <td>4256</td>\n",
       "      <td>4256</td>\n",
       "      <td>4256</td>\n",
       "    </tr>\n",
       "    <tr>\n",
       "      <th>unique</th>\n",
       "      <td>16</td>\n",
       "      <td>266</td>\n",
       "      <td>2835</td>\n",
       "    </tr>\n",
       "    <tr>\n",
       "      <th>top</th>\n",
       "      <td>GDP growth (annual %)</td>\n",
       "      <td>Afghanistan</td>\n",
       "      <td>..</td>\n",
       "    </tr>\n",
       "    <tr>\n",
       "      <th>freq</th>\n",
       "      <td>266</td>\n",
       "      <td>16</td>\n",
       "      <td>1374</td>\n",
       "    </tr>\n",
       "  </tbody>\n",
       "</table>\n",
       "</div>"
      ],
      "text/plain": [
       "                  Series Name Country Name 2023 [YR2023]\n",
       "count                    4256         4256          4256\n",
       "unique                     16          266          2835\n",
       "top     GDP growth (annual %)  Afghanistan            ..\n",
       "freq                      266           16          1374"
      ]
     },
     "execution_count": 9,
     "metadata": {},
     "output_type": "execute_result"
    }
   ],
   "source": [
    "df.describe()"
   ]
  },
  {
   "cell_type": "markdown",
   "metadata": {},
   "source": [
    "Como vemos, el \"Series Name\" puede tomar 16 valores distintos. Lo debemos pasar a formato Wide, teniendo una columna para cada uno de ellos, tomando el valor que aparece en 2023 [YR2023]"
   ]
  },
  {
   "cell_type": "code",
   "execution_count": null,
   "metadata": {},
   "outputs": [],
   "source": [
    "pd.DataFrame[]"
   ]
  },
  {
   "cell_type": "code",
   "execution_count": 13,
   "metadata": {},
   "outputs": [
    {
     "name": "stdout",
     "output_type": "stream",
     "text": [
      "Afghanistan\n",
      "Albania\n",
      "Algeria\n",
      "American Samoa\n",
      "Andorra\n",
      "Angola\n",
      "Antigua and Barbuda\n",
      "Argentina\n",
      "Armenia\n",
      "Aruba\n",
      "Australia\n",
      "Austria\n",
      "Azerbaijan\n",
      "Bahamas\n",
      "Bahrain\n",
      "Bangladesh\n",
      "Barbados\n",
      "Belarus\n",
      "Belgium\n",
      "Belize\n",
      "Benin\n",
      "Bermuda\n",
      "Bhutan\n",
      "Bolivia\n",
      "Bosnia and Herzegovina\n",
      "Botswana\n",
      "Brazil\n",
      "British Virgin Islands\n",
      "Brunei Darussalam\n",
      "Bulgaria\n",
      "Burkina Faso\n",
      "Burundi\n",
      "Cabo Verde\n",
      "Cambodia\n",
      "Cameroon\n",
      "Canada\n",
      "Cayman Islands\n",
      "Central African Republic\n",
      "Chad\n",
      "Channel Islands\n",
      "Chile\n",
      "China\n",
      "Colombia\n",
      "Comoros\n",
      "Congo Dem. Rep.\n",
      "Congo Rep.\n",
      "Costa Rica\n",
      "Cote d'Ivoire\n",
      "Croatia\n",
      "Cuba\n",
      "Curacao\n",
      "Cyprus\n",
      "Czechia\n",
      "Denmark\n",
      "Djibouti\n",
      "Dominica\n",
      "Dominican Republic\n",
      "Ecuador\n",
      "Egypt\n",
      "El Salvador\n",
      "Equatorial Guinea\n",
      "Eritrea\n",
      "Estonia\n",
      "Eswatini\n",
      "Ethiopia\n",
      "Faroe Islands\n",
      "Fiji\n",
      "Finland\n",
      "France\n",
      "French Polynesia\n",
      "Gabon\n",
      "Gambia\n",
      "Georgia\n",
      "Germany\n",
      "Ghana\n",
      "Gibraltar\n",
      "Greece\n",
      "Greenland\n",
      "Grenada\n",
      "Guam\n",
      "Guatemala\n",
      "Guinea\n",
      "Guinea-Bissau\n",
      "Guyana\n",
      "Haiti\n",
      "Honduras\n",
      "Hong Kong\n",
      "Hungary\n",
      "Iceland\n",
      "India\n",
      "Indonesia\n",
      "Iran\n",
      "Iraq\n",
      "Ireland\n",
      "Isle of Man\n",
      "Israel\n",
      "Italy\n",
      "Jamaica\n",
      "Japan\n",
      "Jordan\n",
      "Kazakhstan\n",
      "Kenya\n",
      "Kiribati\n",
      "Korea Dem. People's Rep.\n",
      "Korea Rep.\n",
      "Kosovo\n",
      "Kuwait\n",
      "Kyrgyz Republic\n",
      "Lao PDR\n",
      "Latvia\n",
      "Lebanon\n",
      "Lesotho\n",
      "Liberia\n",
      "Libya\n",
      "Liechtenstein\n",
      "Lithuania\n",
      "Luxembourg\n",
      "Macao\n",
      "Madagascar\n",
      "Malawi\n",
      "Malaysia\n",
      "Maldives\n",
      "Mali\n",
      "Malta\n",
      "Marshall Islands\n",
      "Mauritania\n",
      "Mauritius\n",
      "Mexico\n",
      "Micronesia\n",
      "Moldova\n",
      "Monaco\n",
      "Mongolia\n",
      "Montenegro\n",
      "Morocco\n",
      "Mozambique\n",
      "Myanmar\n",
      "Namibia\n",
      "Nauru\n",
      "Nepal\n",
      "Netherlands\n",
      "New Caledonia\n",
      "New Zealand\n",
      "Nicaragua\n",
      "Niger\n",
      "Nigeria\n",
      "North Macedonia\n",
      "Northern Mariana Islands\n",
      "Norway\n",
      "Oman\n",
      "Pakistan\n",
      "Palau\n",
      "Panama\n",
      "Papua New Guinea\n",
      "Paraguay\n",
      "Peru\n",
      "Philippines\n",
      "Poland\n",
      "Portugal\n",
      "Puerto Rico\n",
      "Qatar\n",
      "Romania\n",
      "Russian Federation\n",
      "Rwanda\n",
      "Samoa\n",
      "San Marino\n",
      "Sao Tome and Principe\n",
      "Saudi Arabia\n",
      "Senegal\n",
      "Serbia\n",
      "Seychelles\n",
      "Sierra Leone\n",
      "Singapore\n",
      "Sint Maarten (Dutch part)\n",
      "Slovak Republic\n",
      "Slovenia\n",
      "Solomon Islands\n",
      "Somalia\n",
      "South Africa\n",
      "South Sudan\n",
      "Spain\n",
      "Sri Lanka\n",
      "St. Kitts and Nevis\n",
      "St. Lucia\n",
      "St. Martin (French part)\n",
      "St. Vincent and the Grenadines\n",
      "Sudan\n",
      "Suriname\n",
      "Sweden\n",
      "Switzerland\n",
      "Syrian Arab Republic\n",
      "Tajikistan\n",
      "Tanzania\n",
      "Thailand\n",
      "Timor-Leste\n",
      "Togo\n",
      "Tonga\n",
      "Trinidad and Tobago\n",
      "Tunisia\n",
      "Turkiye\n",
      "Turkmenistan\n",
      "Turks and Caicos Islands\n",
      "Tuvalu\n",
      "Uganda\n",
      "Ukraine\n",
      "United Arab Emirates\n",
      "United Kingdom\n",
      "United States\n",
      "Uruguay\n",
      "Uzbekistan\n",
      "Vanuatu\n",
      "Venezuela\n",
      "Viet Nam\n",
      "Virgin Islands (U.S.)\n",
      "West Bank and Gaza\n",
      "Yemen\n",
      "Zambia\n",
      "Zimbabwe\n",
      "Africa Eastern and Southern\n",
      "Africa Western and Central\n",
      "Arab World\n",
      "Caribbean small states\n",
      "Central Europe and the Baltics\n",
      "Early-demographic dividend\n",
      "East Asia & Pacific\n",
      "East Asia & Pacific (excluding high income)\n",
      "East Asia & Pacific (IDA & IBRD countries)\n",
      "Euro area\n",
      "Europe & Central Asia\n",
      "Europe & Central Asia (excluding high income)\n",
      "Europe & Central Asia (IDA & IBRD countries)\n",
      "European Union\n",
      "Fragile and conflict affected situations\n",
      "Heavily indebted poor countries (HIPC)\n",
      "High income\n",
      "IBRD only\n",
      "IDA & IBRD total\n",
      "IDA blend\n",
      "IDA only\n",
      "IDA total\n",
      "Late-demographic dividend\n",
      "Latin America & Caribbean\n",
      "Latin America & Caribbean (excluding high income)\n",
      "Latin America & the Caribbean (IDA & IBRD countries)\n",
      "Least developed countries: UN classification\n",
      "Low & middle income\n",
      "Low income\n",
      "Lower middle income\n",
      "Middle East & North Africa\n",
      "Middle East & North Africa (excluding high income)\n",
      "Middle East & North Africa (IDA & IBRD countries)\n",
      "Middle income\n",
      "North America\n",
      "Not classified\n",
      "OECD members\n",
      "Other small states\n",
      "Pacific island small states\n",
      "Post-demographic dividend\n",
      "Pre-demographic dividend\n",
      "Small states\n",
      "South Asia\n",
      "South Asia (IDA & IBRD)\n",
      "Sub-Saharan Africa\n",
      "Sub-Saharan Africa (excluding high income)\n",
      "Sub-Saharan Africa (IDA & IBRD countries)\n",
      "Upper middle income\n",
      "World\n"
     ]
    }
   ],
   "source": [
    "for pais in df['Country Name'].unique():\n",
    "    print(pais)"
   ]
  },
  {
   "cell_type": "markdown",
   "metadata": {
    "id": "1Qh41mXqbU2j"
   },
   "source": [
    "### Pregunta 2.1\n",
    "\n",
    "Debido a que la pregunta de interés es sobre identificación de grupos de países, elime filas donde `Country Name` sea igual a cualquiera de los siguientes valores:\n",
    "\n",
    "- \"Africa Eastern and Southern\"  \n",
    "- \"Africa Western and Central\"  \n",
    "- \"Arab World\"  \n",
    "- \"Caribbean small states\"  \n",
    "- \"Central Europe and the Baltics\"  \n",
    "- \"Early-demographic dividend\"  \n",
    "- \"East Asia & Pacific\"  \n",
    "- \"East Asia & Pacific (IDA & IBRD countries)\"  \n",
    "- \"East Asia & Pacific (excluding high income)\"  \n",
    "- \"Euro area\"  \n",
    "- \"Europe & Central Asia\"  \n",
    "- \"Europe & Central Asia (IDA & IBRD countries)\"  \n",
    "- \"Europe & Central Asia (excluding high income)\"  \n",
    "- \"European Union\"  \n",
    "- \"Fragile and conflict affected situations\"  \n",
    "- \"Heavily indebted poor countries (HIPC)\"  \n",
    "- \"High income\"  \n",
    "- \"IBRD only\"  \n",
    "- \"IDA & IBRD total\"  \n",
    "- \"IDA blend\"  \n",
    "- \"IDA only\"  \n",
    "- \"IDA total\"  \n",
    "- \"Late-demographic dividend\"  \n",
    "- \"Latin America & Caribbean\"  \n",
    "- \"Latin America & Caribbean (excluding high income)\"  \n",
    "- \"Latin America & the Caribbean (IDA & IBRD countries)\"  \n",
    "- \"Least developed countries: UN classification\"  \n",
    "- \"Low & middle income\"  \n",
    "- \"Low income\"  \n",
    "- \"Lower middle income\"  \n",
    "- \"Middle East & North Africa\"  \n",
    "- \"Middle East & North Africa (IDA & IBRD countries)\"  \n",
    "- \"Middle East & North Africa (excluding high income)\"  \n",
    "- \"Middle income\"  \n",
    "- \"North America\"  \n",
    "- \"Not classified\"  \n",
    "- \"OECD members\"  \n",
    "- \"Other small states\"  \n",
    "- \"Pacific island small states\"  \n",
    "- \"Post-demographic dividend\"  \n",
    "- \"Pre-demographic dividend\"  \n",
    "- \"Small states\"  \n",
    "- \"South Asia\"  \n",
    "- \"South Asia (IDA & IBRD)\"  \n",
    "- \"Sub-Saharan Africa\"  \n",
    "- \"Sub-Saharan Africa (IDA & IBRD countries)\"  \n",
    "- \"Sub-Saharan Africa (excluding high income)\"  \n",
    "- \"Upper middle income\"  \n",
    "- \"World\"\n",
    "\n",
    "\n"
   ]
  },
  {
   "cell_type": "code",
   "execution_count": null,
   "metadata": {
    "id": "3s_ZAF_snmCI"
   },
   "outputs": [],
   "source": []
  },
  {
   "cell_type": "markdown",
   "metadata": {
    "id": "ofrLMQgZbnU-"
   },
   "source": [
    "### Pregunta 2.2\n",
    "\n",
    "Reemplace todos los valores `\"..\"` por `NA`. Luego, transforme las columnas a variables numéricas y despliegue estadísticas descriptivas.\n"
   ]
  },
  {
   "cell_type": "code",
   "execution_count": null,
   "metadata": {
    "id": "H4CthDucnoKJ"
   },
   "outputs": [],
   "source": []
  },
  {
   "cell_type": "markdown",
   "metadata": {
    "id": "0ZA1-qSlb9QR"
   },
   "source": [
    "### Pregunta 2.3\n",
    "\n",
    "Grafique la distribución empírica de todas las variables numéricas del dataset. Comente sobre cada una de ellas."
   ]
  },
  {
   "cell_type": "code",
   "execution_count": null,
   "metadata": {
    "id": "6VFd6S1bnpSA"
   },
   "outputs": [],
   "source": []
  },
  {
   "cell_type": "markdown",
   "metadata": {
    "id": "zx1BvF5mfFzl"
   },
   "source": [
    "\n",
    "\n",
    "\n",
    "---\n",
    "\n",
    "\n",
    "*Escriba* su respuesta en esta celda...\n",
    "\n",
    "\n",
    "---\n"
   ]
  },
  {
   "cell_type": "markdown",
   "metadata": {
    "id": "YTHSDT2ccQcc"
   },
   "source": [
    "## Missing Values"
   ]
  },
  {
   "cell_type": "markdown",
   "metadata": {
    "id": "cI_AR-AacScC"
   },
   "source": [
    "### Pregunta 2.4\n",
    "\n",
    "Realice análisis de valores vacíos y tratamiento de estos. Se premiará mantener el mayor número de observaciones posibles bajo criterios razonables. Luego de esta pregunta no deben quedar nulos en el _dataframe_ a utilizar.\n"
   ]
  },
  {
   "cell_type": "code",
   "execution_count": null,
   "metadata": {
    "id": "9fHxElRrnu07"
   },
   "outputs": [],
   "source": []
  },
  {
   "cell_type": "markdown",
   "metadata": {
    "id": "iUgaRkuEdioX"
   },
   "source": [
    "## Outliers"
   ]
  },
  {
   "cell_type": "markdown",
   "metadata": {
    "id": "nVe-WtBYdiUl"
   },
   "source": [
    "### Pregunta 2.5\n",
    "\n",
    "Realice análisis de datos _outliers_. De ser necesario aplique un procesamiento de outliers, de no ser necesario justifique.\n",
    "\n",
    "Se premiará el buen criterio fundamentado."
   ]
  },
  {
   "cell_type": "code",
   "execution_count": null,
   "metadata": {
    "id": "X9-79aNWd7ka"
   },
   "outputs": [],
   "source": []
  },
  {
   "cell_type": "markdown",
   "metadata": {
    "id": "uB_EWD0xeBEI"
   },
   "source": [
    "\n",
    "\n",
    "\n",
    "---\n",
    "\n",
    "\n",
    "*Escriba* su respuesta en esta celda...\n",
    "\n",
    "\n",
    "---\n"
   ]
  },
  {
   "cell_type": "markdown",
   "metadata": {
    "id": "4KtgZLAgeJ4S"
   },
   "source": [
    "## Feature Engineering\n"
   ]
  },
  {
   "cell_type": "markdown",
   "metadata": {},
   "source": [
    "Cree un _pipeline_ de preprocesamiento con las siguientes transformaciones a las columnas correspondientes:\n",
    "\n",
    "*   **Columnas Numéricas** : Aplique un `StandardScaler` para estandarizar estas variables.\n",
    "*   **Columnas Categóricas No Binarias** : Aplique `OneHotEncoder` para crear variables dummy. Asegúrese de manejar posibles categorías desconocidas durante la transformación.\n",
    "*   **Columnas a Eliminar** : Elimine columnas que dejan de ser relavantes luego de las trasformaciones.\n",
    "*  **Columnas Dummies MultiNivel** : cree columnas dummies para las variables multi categoricas (tomando codificadas a 0s y 1s =, para su respctiva categoria)\n",
    "*  **Columnas Label Encoding MultiNivel** : Dentro de las columnas multinivel hay 2 columnas que presentan un orden natural. e.g. en la columna 'month' tenemos que 'jan' < 'feb' < 'dec'. Aplique en la columna 'month' y otra columna que deberá determinar usted un label encoder que capture ese ordenamiento natural, luego normalice con un minmax scaler para que las columnas varien entre 0 y 1.\n",
    "\n",
    "\n",
    "Una vez creado el pipeline, aplíquelo a su conjunto de features (`X`). Muestre la forma (_shape_) del dataset original y del dataset procesado para verificar los cambios. ¿Cuántas nuevas columnas hay?\n",
    "\n",
    "Adicionalmente, elimine del análisis la variable `day_of_week`. Si considera necesario realizar transformaciones adicionales a las variables, realicelas en este punto."
   ]
  },
  {
   "cell_type": "markdown",
   "metadata": {
    "id": "RHRrwHCjeOQt"
   },
   "source": [
    "### Pregunta 2.6\n",
    "\n",
    "Realice _feature engineering_ de las variables numéricas (para luego entrenar un modelo _K-Means_ con estas). Realice los ajustes que estime conveniente, pero su tratamiento debe incluir por lo menos estandarización de las variables.\n",
    "\n",
    "Más adelante se le pedirá comentar sobre los resultados de sus modelos, por lo que considere que sus decisiones podrían condicionar futuras preguntas.\n",
    "\n"
   ]
  },
  {
   "cell_type": "code",
   "execution_count": null,
   "metadata": {
    "id": "v19_TyO6n29C"
   },
   "outputs": [],
   "source": []
  },
  {
   "cell_type": "markdown",
   "metadata": {
    "id": "B2wxZhGQe2DR"
   },
   "source": [
    "## K-Means"
   ]
  },
  {
   "cell_type": "markdown",
   "metadata": {
    "id": "0phACBFse5FQ"
   },
   "source": [
    "### Pregunta 2.7\n",
    "\n",
    "Considerando el dataframe completo (todas sus columnas atributos), determine el número óptimo de clusters mediante el \"Elbow method\". Considere un rango $k \\in [1, 30]$. Describa el comportamiento observado de la curva.\n",
    "\n"
   ]
  },
  {
   "cell_type": "code",
   "execution_count": null,
   "metadata": {
    "id": "sIVhrILyn5gf"
   },
   "outputs": [],
   "source": []
  },
  {
   "cell_type": "markdown",
   "metadata": {
    "id": "uHY07twufOzi"
   },
   "source": [
    "\n",
    "\n",
    "\n",
    "---\n",
    "\n",
    "\n",
    "*Escriba* su respuesta en esta celda...\n",
    "\n",
    "\n",
    "---\n"
   ]
  },
  {
   "cell_type": "markdown",
   "metadata": {
    "id": "4yazbr8afPbQ"
   },
   "source": [
    "### Pregunta 2.8\n",
    "\n",
    "Un problema habitual del modelo _K-Means_ es que pierde desempeño a mayor dimensionalidad.\n",
    "\n",
    "En esta pregunta defina **por lo menos 5 combinaciones de columnas** (mínimo 2 columnas y máximo 4). Para cada combinación determine el número óptimo de clusters mediante el \"Elbow method\" considerando $k \\in [1, 30]$.\n",
    "\n",
    "Un posible enfoque para lo anterior es tomar un _approach_ estadístico y escoger variables que empíricamente muestran mayores indicios de poder diferenciador entre las observaciones. De todas formas, recuerde que la pregunta de interés es \"¿qué países se verán expuestos de forma similar a la guerra comercial?\". En este sentido, es altamente recomendable escoger variables con una mayor relación al fenómeno de la guerra comercial, ya que puede ser útil para discernir de qué forma podría verse expuesto cada grupo.\n"
   ]
  },
  {
   "cell_type": "code",
   "execution_count": null,
   "metadata": {
    "id": "1TgUQ3qTn_1e"
   },
   "outputs": [],
   "source": []
  },
  {
   "cell_type": "markdown",
   "metadata": {
    "id": "DfCJ0UdsoKYv"
   },
   "source": [
    "---\n",
    "\n",
    "\n",
    "*Escriba* su respuesta en esta celda...\n",
    "\n",
    "\n",
    "---"
   ]
  },
  {
   "cell_type": "markdown",
   "metadata": {
    "id": "x-3BnLyGf6_d"
   },
   "source": [
    "### Pregunta 2.9\n",
    "\n",
    "Escoja la combinación de columnas que considera adecuada emplear, refiriéndose tanto al comportamiento observado de la curva, como al nivel de la métrica empleada al que se alcanza la convergencia.\n",
    "\n",
    "Estime el modelo con $k$ óptimo y las columnas escogidas. Visualice los grupos graficando _scatterplots_. Considere gráficos en 3 dimensiones si su modelo posee 3 o más variables.\n",
    "\n",
    "Describa en qué se diferencian los grupos encontrados y de qué manera le podría afectar la guerra comercial a cada uno. Liste una pequeña muestra representativa de los países que contiene cada grupo.\n"
   ]
  },
  {
   "cell_type": "code",
   "execution_count": null,
   "metadata": {
    "id": "Ykx7WhqYoDR8"
   },
   "outputs": [],
   "source": []
  },
  {
   "cell_type": "markdown",
   "metadata": {
    "id": "AYngTiIioLfC"
   },
   "source": [
    "---\n",
    "\n",
    "\n",
    "*Escriba* su respuesta en esta celda...\n",
    "\n",
    "\n",
    "---"
   ]
  },
  {
   "cell_type": "markdown",
   "metadata": {
    "id": "s22z7zCcgYvP"
   },
   "source": [
    "## PCA"
   ]
  },
  {
   "cell_type": "markdown",
   "metadata": {
    "id": "r1Yb5QW2kC8a"
   },
   "source": [
    "_PCA_ es una técnica de reducción de dimensionalidad que nos permite trabajar sobre un set de componentes principales ortogonales (mayor facilidad para los modelos a la hora de detectar patrones), además de permitirnos visualizar espacios multidimensionales, quedándonos sobre el espacio de PCA.\n",
    "\n"
   ]
  },
  {
   "cell_type": "markdown",
   "metadata": {
    "id": "dTURpbklkLYF"
   },
   "source": [
    "### Pregunta 2.10\n",
    "\n",
    "Utilizando todas las variables originales y $k$ óptimo escogido en la pregunta anterior, estime un PCA con 2 componentes principales. Luego, estime un modelo _K-Means_ sobre los componentes principales obtenidos. Grafique las observaciones en un _scatterplot_ de 2 dimensiones. Coloree los puntos usando los label de los clusters obtenidos.\n",
    "\n",
    "¿Cuáles son las principales diferencias entre los grupos? Encuentre las variables más definitivas a la hora de agrupar países con los 2 primeros componentes principales.\n"
   ]
  },
  {
   "cell_type": "code",
   "execution_count": null,
   "metadata": {
    "id": "raKFyPU1oQue"
   },
   "outputs": [],
   "source": []
  },
  {
   "cell_type": "markdown",
   "metadata": {
    "id": "FmUGY54-oRDz"
   },
   "source": [
    "---\n",
    "\n",
    "\n",
    "*Escriba* su respuesta en esta celda...\n",
    "\n",
    "\n",
    "---"
   ]
  },
  {
   "cell_type": "markdown",
   "metadata": {
    "id": "i1c8s2S1kev9"
   },
   "source": [
    "### Pregunta 2.11\n",
    "\n",
    "\n",
    "Repita lo anterior  (descripción incluida), pero con 3 componentes principales y un _scatterplot_ en 3 dimensiones."
   ]
  },
  {
   "cell_type": "code",
   "execution_count": null,
   "metadata": {
    "id": "b9mfhImWoTe3"
   },
   "outputs": [],
   "source": []
  },
  {
   "cell_type": "markdown",
   "metadata": {
    "id": "mEhG29aSoTke"
   },
   "source": [
    "---\n",
    "\n",
    "\n",
    "*Escriba* su respuesta en esta celda...\n",
    "\n",
    "\n",
    "---"
   ]
  },
  {
   "cell_type": "markdown",
   "metadata": {
    "id": "e-5FNbkDgaP5"
   },
   "source": [
    "### Pregunta 2.12\n",
    "\n",
    "Otro de los usos de los más comúnes de _PCA_, además de _feature engineering_, es la visualización. En esta sección utilizaremos _PCA_ para confirmar visualmente que estamos clusterizando países similares.\n",
    "\n",
    "Usando el diccionario en la celda de abajo agrega una columna de continente al _dataframe_ de trabajo."
   ]
  },
  {
   "cell_type": "code",
   "execution_count": null,
   "metadata": {
    "id": "xocjfeXfgehD"
   },
   "outputs": [],
   "source": [
    "country_continent_mapping = {\n",
    "    'Albania': 'Europe',\n",
    "    'Argentina': 'South America',\n",
    "    'Armenia': 'Asia',\n",
    "    'Aruba': 'North America', # Usually classified with the Caribbean\n",
    "    'Australia': 'Oceania',\n",
    "    'Austria': 'Europe',\n",
    "    'Azerbaijan': 'Asia',\n",
    "    'Bahrain': 'Asia',\n",
    "    'Belgium': 'Europe',\n",
    "    'Belize': 'North America',\n",
    "    'Bolivia': 'South America',\n",
    "    'Bosnia and Herzegovina': 'Europe',\n",
    "    'Botswana': 'Africa',\n",
    "    'Brazil': 'South America',\n",
    "    'Brunei Darussalam': 'Asia',\n",
    "    'Bulgaria': 'Europe',\n",
    "    'Burkina Faso': 'Africa',\n",
    "    'Cabo Verde': 'Africa',\n",
    "    'Canada': 'North America',\n",
    "    'Chile': 'South America',\n",
    "    'China': 'Asia',\n",
    "    'Colombia': 'South America',\n",
    "    'Congo Dem. Rep.': 'Africa',\n",
    "    'Costa Rica': 'North America',\n",
    "    'Croatia': 'Europe',\n",
    "    'Cyprus': 'Asia',\n",
    "    'Czechia': 'Europe',\n",
    "    'Denmark': 'Europe',\n",
    "    'Dominican Republic': 'North America',\n",
    "    'Ecuador': 'South America',\n",
    "    'Egypt': 'Africa', # Transcontinental, but usually Africa\n",
    "    'El Salvador': 'North America',\n",
    "    'Estonia': 'Europe',\n",
    "    'Ethiopia': 'Africa',\n",
    "    'Finland': 'Europe',\n",
    "    'France': 'Europe',\n",
    "    'Gambia': 'Africa',\n",
    "    'Georgia': 'Asia',\n",
    "    'Germany': 'Europe',\n",
    "    'Ghana': 'Africa',\n",
    "    'Greece': 'Europe',\n",
    "    'Guatemala': 'North America',\n",
    "    'Honduras': 'North America',\n",
    "    'Hong Kong': 'Asia',\n",
    "    'Hungary': 'Europe',\n",
    "    'Iceland': 'Europe',\n",
    "    'India': 'Asia',\n",
    "    'Indonesia': 'Asia',\n",
    "    'Ireland': 'Europe',\n",
    "    'Italy': 'Europe',\n",
    "    'Japan': 'Asia',\n",
    "    'Jordan': 'Asia',\n",
    "    'Kazakhstan': 'Asia', # Transcontinental, mostly Asia\n",
    "    'Kenya': 'Africa',\n",
    "    'Korea Rep.': 'Asia',\n",
    "    'Latvia': 'Europe',\n",
    "    'Lesotho': 'Africa',\n",
    "    'Lithuania': 'Europe',\n",
    "    'Luxembourg': 'Europe',\n",
    "    'Macao': 'Asia',\n",
    "    'Malaysia': 'Asia',\n",
    "    'Malta': 'Europe',\n",
    "    'Mauritania': 'Africa',\n",
    "    'Mauritius': 'Africa',\n",
    "    'Mexico': 'North America',\n",
    "    'Moldova': 'Europe',\n",
    "    'Montenegro': 'Europe',\n",
    "    'Morocco': 'Africa',\n",
    "    'Mozambique': 'Africa',\n",
    "    'Namibia': 'Africa',\n",
    "    'Netherlands': 'Europe',\n",
    "    'New Zealand': 'Oceania',\n",
    "    'Nicaragua': 'North America',\n",
    "    'Niger': 'Africa',\n",
    "    'North Macedonia': 'Europe',\n",
    "    'Norway': 'Europe',\n",
    "    'Pakistan': 'Asia',\n",
    "    'Panama': 'North America',\n",
    "    'Paraguay': 'South America',\n",
    "    'Peru': 'South America',\n",
    "    'Philippines': 'Asia',\n",
    "    'Poland': 'Europe',\n",
    "    'Portugal': 'Europe',\n",
    "    'Romania': 'Europe',\n",
    "    'Samoa': 'Oceania',\n",
    "    'Saudi Arabia': 'Asia',\n",
    "    'Senegal': 'Africa',\n",
    "    'Singapore': 'Asia',\n",
    "    'Slovak Republic': 'Europe',\n",
    "    'Slovenia': 'Europe',\n",
    "    'South Africa': 'Africa',\n",
    "    'Spain': 'Europe',\n",
    "    'Sri Lanka': 'Asia',\n",
    "    'Sweden': 'Europe',\n",
    "    'Switzerland': 'Europe',\n",
    "    'Tanzania': 'Africa',\n",
    "    'Thailand': 'Asia',\n",
    "    'Timor-Leste': 'Asia',\n",
    "    'Tunisia': 'Africa',\n",
    "    'Turkiye': 'Asia', # Transcontinental, mostly Asia\n",
    "    'Uganda': 'Africa',\n",
    "    'Ukraine': 'Europe',\n",
    "    'United Kingdom': 'Europe',\n",
    "    'United States': 'North America',\n",
    "    'Uruguay': 'South America',\n",
    "    'Uzbekistan': 'Asia',\n",
    "    'Zambia': 'Africa'\n",
    "}\n"
   ]
  },
  {
   "cell_type": "markdown",
   "metadata": {
    "id": "ZD63i3iqkzPJ"
   },
   "source": [
    "### Pregunta 2.13\n",
    "\n",
    "Realice un PCA de 2 componentes principales, grafique un _scatterplot_ del resultado y coloree cada punto según su continente. ¿Que se obserba?\n"
   ]
  },
  {
   "cell_type": "code",
   "execution_count": null,
   "metadata": {
    "id": "6b4jB-gMoeZF"
   },
   "outputs": [],
   "source": []
  },
  {
   "cell_type": "markdown",
   "metadata": {
    "id": "xktT1YAaoc0U"
   },
   "source": [
    "---\n",
    "\n",
    "\n",
    "*Escriba* su respuesta en esta celda...\n",
    "\n",
    "\n",
    "---"
   ]
  },
  {
   "cell_type": "markdown",
   "metadata": {
    "id": "b3y-DTSBk6fj"
   },
   "source": [
    "### Pregunta 2.14\n",
    "\n",
    "Genera el mismo gráfico anterior, pero ahora coloree los puntos del scatterplot usando los clusters de un KMeans de 3 clústers y `random_state=42`. Describa los clusters según el gráfico.\n",
    "\n"
   ]
  },
  {
   "cell_type": "code",
   "execution_count": null,
   "metadata": {
    "id": "GUd3NBLBogw8"
   },
   "outputs": [],
   "source": []
  },
  {
   "cell_type": "markdown",
   "metadata": {
    "id": "lDcgO6Kjog5d"
   },
   "source": [
    "---\n",
    "\n",
    "\n",
    "*Escriba* su respuesta en esta celda...\n",
    "\n",
    "\n",
    "---"
   ]
  },
  {
   "cell_type": "markdown",
   "metadata": {
    "id": "6DweNXvelFJf"
   },
   "source": [
    "### Pregunta 2.15\n",
    "\n",
    "¿Cual es la proporcion de cada cluster por continente?\n"
   ]
  },
  {
   "cell_type": "code",
   "execution_count": null,
   "metadata": {
    "id": "348X2JFCok78"
   },
   "outputs": [],
   "source": []
  },
  {
   "cell_type": "markdown",
   "metadata": {
    "id": "TGbwOcfilNON"
   },
   "source": [
    "### Pregunta 2.16\n",
    "\n",
    "¿Cuál es la característica numérica más alta en magnitud por cluster (usando sus centroides)? ¿Cuál es su signo? ¿Como nos ayuda a interpretar los clusters? ¿Que podemos concluir de cada uno de estos clusters en contexto de la guerra comercial?\n"
   ]
  },
  {
   "cell_type": "code",
   "execution_count": null,
   "metadata": {
    "id": "R-mbOcOQomp-"
   },
   "outputs": [],
   "source": []
  },
  {
   "cell_type": "markdown",
   "metadata": {
    "id": "3xP0vls6omw4"
   },
   "source": [
    "---\n",
    "\n",
    "\n",
    "*Escriba* su respuesta en esta celda...\n",
    "\n",
    "\n",
    "---"
   ]
  }
 ],
 "metadata": {
  "colab": {
   "provenance": [],
   "toc_visible": true
  },
  "kernelspec": {
   "display_name": "Python 3 (ipykernel)",
   "language": "python",
   "name": "python3"
  },
  "language_info": {
   "codemirror_mode": {
    "name": "ipython",
    "version": 3
   },
   "file_extension": ".py",
   "mimetype": "text/x-python",
   "name": "python",
   "nbconvert_exporter": "python",
   "pygments_lexer": "ipython3",
   "version": "3.11.4"
  }
 },
 "nbformat": 4,
 "nbformat_minor": 1
}
