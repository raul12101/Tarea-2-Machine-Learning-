{
 "cells": [
  {
   "cell_type": "markdown",
   "metadata": {
    "id": "IbwtDKkSJxE9"
   },
   "source": [
    "EAE3709 APLICACIONES DE  MACHINE LEARNING EN ECONOMÍA <br>\n",
    "1ER SEMESTRE 2025 <br>\n",
    "INSTITUTO DE ECONOMÍA <br>\n",
    "PONTIFICIA UNIVERSIDAD CATÓLICA DE CHILE\n",
    "\n",
    "\n",
    "# **TAREA 2**\n",
    "\n",
    "\n",
    "---\n",
    "\n",
    "\n",
    "Profesor:\n",
    "- Joaquín Pérez Lapillo\n",
    "\n",
    "Ayudantes:\n",
    "\n",
    "- Luis García B.\n",
    "- Sebastián Hernández B.\n",
    "- Oscar Herrera G.\n"
   ]
  },
  {
   "cell_type": "markdown",
   "metadata": {
    "id": "xCs4syNLJ9Gh"
   },
   "source": [
    "**Complete sus datos:**\n",
    "\n",
    "- Nombre y apellido:\n",
    "  - `# Completar`\n",
    "  - `# Completar`\n",
    "- Usuario de GitHub (opcional):  `# Completar`\n"
   ]
  },
  {
   "cell_type": "markdown",
   "metadata": {
    "id": "tP_MIjWrKFqN"
   },
   "source": [
    "## Instrucciones\n",
    "\n",
    "- Descargue el notebook y cárguelo en su Drive.\n",
    "- Todas las preguntas deben ser contestadas en su notebook.\n",
    "- Para que una pregunta esté correcta el código debe correr.\n",
    "- Si es necesario, realice comentarios breves en su código explicando lo que está realizando o sus resultados.\n",
    "- Una vez culminada su tarea, suba su notebook al buzón de tareas de Canvas.\n",
    "- La fecha y hora límite de esta tarea es el _**viernes 30 de mayo a las 20:00 hrs**_.\n",
    "\n"
   ]
  },
  {
   "cell_type": "markdown",
   "metadata": {
    "id": "9pYuXYGfJ3a7"
   },
   "source": [
    "### Distribución de puntaje\n",
    "\n",
    "\n",
    "| Pregunta                        | Puntaje |\n",
    "|--------------------------------|---------|\n",
    "| Pregunta 1.0                   |    1    |\n",
    "| Pregunta 1.1                   |    2    |\n",
    "| Pregunta 1.2                   |    2    |\n",
    "| Pregunta 1.3                   |    2    |\n",
    "| Pregunta 1.4                   |    5    |\n",
    "| Pregunta 1.5                   |    5    |\n",
    "| Pregunta 1.6                   |    2    |\n",
    "| Pregunta 1.7                   |    2    |\n",
    "| Pregunta 1.8                   |    3    |\n",
    "| Pregunta 1.9                   |    3    |\n",
    "| Pregunta 1.10                   |    5    |\n",
    "| Pregunta 1.11                   |    5    |\n",
    "| Pregunta 1.12                   |    5    |\n",
    "| Pregunta 1.13                   |    3    |\n",
    "| Pregunta 1.13                   |    5    |\n",
    "| Pregunta 2.0                   |    1    |\n",
    "| Pregunta 2.1                   |    1    |\n",
    "| Pregunta 2.2                   |    1    |\n",
    "| Pregunta 2.3                   |    3    |\n",
    "| Pregunta 2.4                   |    5    |\n",
    "| Pregunta 2.5                   |    3    |\n",
    "| Pregunta 2.6                   |    3    |\n",
    "| Pregunta 2.7                   |    3    |\n",
    "| Pregunta 2.8                   |    5    |\n",
    "| Pregunta 2.9                   |    7    |\n",
    "| Pregunta 2.10                   |    4    |\n",
    "| Pregunta 2.11                   |    3    |\n",
    "| Pregunta 2.12                   |    1    |\n",
    "| Pregunta 2.13                   |    2    |\n",
    "| Pregunta 2.14                   |    3    |\n",
    "| Pregunta 2.15                   |    2    |\n",
    "| Pregunta 2.16                   |    3    |\n",
    "\n",
    "Total: 100 pts.\n"
   ]
  },
  {
   "cell_type": "markdown",
   "metadata": {
    "id": "b0fVGE4KKrOp"
   },
   "source": [
    "# KMeans & PCA\n",
    "\n",
    "La guerra comercial desatada levanta un montón de preguntas de interés en economía. Una de estas es: ¿Qué países sufrirán de forma similar las consecuencias de esta? ¿Quiénes serían ganadores? ¿Quienes serían perdedores?\n",
    "\n",
    "En esta parte exploraremos el aporte que los métodos de Clustering de Machine Learning pueden hacer a la respuesta de esta cuestión. Nos enfocaremos en variables relacionadas al comercio exterior para determinar similitud entre grupos de países. Más específicamente, en variables relacionadas a las exportaciones.\n",
    "\n",
    "Para esto, considere las siguientes variables que describen el perfil exportador de cada país:\n",
    "\n",
    "- GDP growth (annual %)\n",
    "- Agricultural raw materials exports (% of merchandise exports)\n",
    "- Computer, communications and other services (% of commercial service exports)\n",
    "- Exports of goods and services (% of GDP)\n",
    "- Food exports (% of merchandise exports)\n",
    "- Fuel exports (% of merchandise exports)\n",
    "- High-technology exports (% of manufactured exports)\n",
    "- ICT service exports (% of service exports, BoP)\n",
    "- Insurance and financial services (% of service exports, BoP)\n",
    "- International tourism, receipts (% of total exports)\n",
    "- Manufactures exports (% of merchandise exports)\n",
    "- Merchandise exports to high-income economies (% of total merchandise exports)\n",
    "- Merchandise exports to low- and middle-income economies in Europe & Central Asia (% of total merchandise exports)\n",
    "- Ores and metals exports (% of merchandise exports)\n",
    "- Taxes on exports (% of tax revenue)\n",
    "- Transport services (% of commercial service exports)\n",
    "\n",
    "\n",
    "La idea será determinar similitud entre países y las variables qué son más relevantes a la hora de determinarla.\n",
    "\n",
    "Debido a que 2023 es el año reciente con una mayor riqueza de datos, y debido a que nos interesan cambios respecto al _status quo_ en el contexto actual, trabajaremos con datos sólo de aquel año."
   ]
  },
  {
   "cell_type": "markdown",
   "metadata": {
    "id": "liNZQhDaaAeb"
   },
   "source": [
    "Database Source: World bank & Trade Analysis Information System.\n",
    "\n"
   ]
  },
  {
   "cell_type": "markdown",
   "metadata": {
    "id": "w-wV02TUaEPl"
   },
   "source": [
    "### Pregunta 2.0\n",
    "\n",
    "Cargue la base de datos disponible en el siguiente link: https://raw.githubusercontent.com/olherreragz/EAE3709-2025-1/refs/heads/main/T2_data/Data.cs.\n",
    "\n",
    "En el siguiente link podrá encontrar información adicional sobre el _dataset_ por si lo llega a necesitar: https://github.com/olherreragz/EAE3709-2025-1/blob/main/T2_data/Series_Metadata.csv.\n",
    "\n",
    "Elimine las columnas `\"Series Code\"` y `\"Country Code\"`. Luego, transforme su _dataframe_ de formato _Long_ a _Wide_. Su _dataframe_ final deberá contener una columna que indique el nombre del país y columnas que indiquen la medida de exportación correspondiente:\n",
    "\n",
    "`<Country>, <SeriesName1>, <SeriesName2> ....`\n",
    "\n",
    "\n",
    "\n",
    "![Long to Wide Format](https://tavareshugo.github.io/r-intro-tidyverse-gapminder/fig/07-data_shapes.png)\n",
    "\n",
    "\n"
   ]
  },
  {
   "cell_type": "code",
   "execution_count": 1,
   "metadata": {},
   "outputs": [],
   "source": [
    "import pandas as pd\n",
    "import numpy as np"
   ]
  },
  {
   "cell_type": "code",
   "execution_count": 2,
   "metadata": {
    "id": "2aDqXfqMq7kb"
   },
   "outputs": [
    {
     "data": {
      "text/html": [
       "<div>\n",
       "<style scoped>\n",
       "    .dataframe tbody tr th:only-of-type {\n",
       "        vertical-align: middle;\n",
       "    }\n",
       "\n",
       "    .dataframe tbody tr th {\n",
       "        vertical-align: top;\n",
       "    }\n",
       "\n",
       "    .dataframe thead th {\n",
       "        text-align: right;\n",
       "    }\n",
       "</style>\n",
       "<table border=\"1\" class=\"dataframe\">\n",
       "  <thead>\n",
       "    <tr style=\"text-align: right;\">\n",
       "      <th></th>\n",
       "      <th>Series Name</th>\n",
       "      <th>Series Code</th>\n",
       "      <th>Country Name</th>\n",
       "      <th>Country Code</th>\n",
       "      <th>2023 [YR2023]</th>\n",
       "    </tr>\n",
       "  </thead>\n",
       "  <tbody>\n",
       "    <tr>\n",
       "      <th>0</th>\n",
       "      <td>GDP growth (annual %)</td>\n",
       "      <td>NY.GDP.MKTP.KD.ZG</td>\n",
       "      <td>Afghanistan</td>\n",
       "      <td>AFG</td>\n",
       "      <td>2.71088679128353</td>\n",
       "    </tr>\n",
       "    <tr>\n",
       "      <th>1</th>\n",
       "      <td>GDP growth (annual %)</td>\n",
       "      <td>NY.GDP.MKTP.KD.ZG</td>\n",
       "      <td>Albania</td>\n",
       "      <td>ALB</td>\n",
       "      <td>3.93662525742167</td>\n",
       "    </tr>\n",
       "    <tr>\n",
       "      <th>2</th>\n",
       "      <td>GDP growth (annual %)</td>\n",
       "      <td>NY.GDP.MKTP.KD.ZG</td>\n",
       "      <td>Algeria</td>\n",
       "      <td>DZA</td>\n",
       "      <td>4.10000000000004</td>\n",
       "    </tr>\n",
       "    <tr>\n",
       "      <th>3</th>\n",
       "      <td>GDP growth (annual %)</td>\n",
       "      <td>NY.GDP.MKTP.KD.ZG</td>\n",
       "      <td>American Samoa</td>\n",
       "      <td>ASM</td>\n",
       "      <td>..</td>\n",
       "    </tr>\n",
       "    <tr>\n",
       "      <th>4</th>\n",
       "      <td>GDP growth (annual %)</td>\n",
       "      <td>NY.GDP.MKTP.KD.ZG</td>\n",
       "      <td>Andorra</td>\n",
       "      <td>AND</td>\n",
       "      <td>2.58355480961319</td>\n",
       "    </tr>\n",
       "  </tbody>\n",
       "</table>\n",
       "</div>"
      ],
      "text/plain": [
       "             Series Name        Series Code    Country Name Country Code  \\\n",
       "0  GDP growth (annual %)  NY.GDP.MKTP.KD.ZG     Afghanistan          AFG   \n",
       "1  GDP growth (annual %)  NY.GDP.MKTP.KD.ZG         Albania          ALB   \n",
       "2  GDP growth (annual %)  NY.GDP.MKTP.KD.ZG         Algeria          DZA   \n",
       "3  GDP growth (annual %)  NY.GDP.MKTP.KD.ZG  American Samoa          ASM   \n",
       "4  GDP growth (annual %)  NY.GDP.MKTP.KD.ZG         Andorra          AND   \n",
       "\n",
       "      2023 [YR2023]  \n",
       "0  2.71088679128353  \n",
       "1  3.93662525742167  \n",
       "2  4.10000000000004  \n",
       "3                ..  \n",
       "4  2.58355480961319  "
      ]
     },
     "execution_count": 2,
     "metadata": {},
     "output_type": "execute_result"
    }
   ],
   "source": [
    "#Importamos el url\n",
    "url = \"https://raw.githubusercontent.com/olherreragz/EAE3709-2025-1/refs/heads/main/T2_data/Data.csv\"\n",
    "df = pd.read_csv(url)\n",
    "df.head()"
   ]
  },
  {
   "cell_type": "code",
   "execution_count": 3,
   "metadata": {},
   "outputs": [],
   "source": [
    "#Eliminamos las columnas\n",
    "df.drop(columns=['Country Code', 'Series Code'], inplace=True)"
   ]
  },
  {
   "cell_type": "code",
   "execution_count": 4,
   "metadata": {
    "scrolled": true
   },
   "outputs": [
    {
     "data": {
      "text/html": [
       "<div>\n",
       "<style scoped>\n",
       "    .dataframe tbody tr th:only-of-type {\n",
       "        vertical-align: middle;\n",
       "    }\n",
       "\n",
       "    .dataframe tbody tr th {\n",
       "        vertical-align: top;\n",
       "    }\n",
       "\n",
       "    .dataframe thead th {\n",
       "        text-align: right;\n",
       "    }\n",
       "</style>\n",
       "<table border=\"1\" class=\"dataframe\">\n",
       "  <thead>\n",
       "    <tr style=\"text-align: right;\">\n",
       "      <th></th>\n",
       "      <th>Series Name</th>\n",
       "      <th>Country Name</th>\n",
       "      <th>2023 [YR2023]</th>\n",
       "    </tr>\n",
       "  </thead>\n",
       "  <tbody>\n",
       "    <tr>\n",
       "      <th>count</th>\n",
       "      <td>4256</td>\n",
       "      <td>4256</td>\n",
       "      <td>4256</td>\n",
       "    </tr>\n",
       "    <tr>\n",
       "      <th>unique</th>\n",
       "      <td>16</td>\n",
       "      <td>266</td>\n",
       "      <td>2835</td>\n",
       "    </tr>\n",
       "    <tr>\n",
       "      <th>top</th>\n",
       "      <td>GDP growth (annual %)</td>\n",
       "      <td>Afghanistan</td>\n",
       "      <td>..</td>\n",
       "    </tr>\n",
       "    <tr>\n",
       "      <th>freq</th>\n",
       "      <td>266</td>\n",
       "      <td>16</td>\n",
       "      <td>1374</td>\n",
       "    </tr>\n",
       "  </tbody>\n",
       "</table>\n",
       "</div>"
      ],
      "text/plain": [
       "                  Series Name Country Name 2023 [YR2023]\n",
       "count                    4256         4256          4256\n",
       "unique                     16          266          2835\n",
       "top     GDP growth (annual %)  Afghanistan            ..\n",
       "freq                      266           16          1374"
      ]
     },
     "execution_count": 4,
     "metadata": {},
     "output_type": "execute_result"
    }
   ],
   "source": [
    "df.describe()"
   ]
  },
  {
   "cell_type": "markdown",
   "metadata": {},
   "source": [
    "Como vemos, el \"Series Name\" puede tomar 16 valores distintos. Lo debemos pasar a formato Wide, teniendo una columna para cada uno de ellos, tomando el valor que aparece en 2023 [YR2023]"
   ]
  },
  {
   "cell_type": "code",
   "execution_count": 19,
   "metadata": {},
   "outputs": [],
   "source": [
    "# Transformamos de long a wide\n",
    "df = df.pivot(index=\"Country Name\", columns=\"Series Name\", values=\"2023 [YR2023]\")"
   ]
  },
  {
   "cell_type": "code",
   "execution_count": 21,
   "metadata": {},
   "outputs": [],
   "source": [
    "# Dejamos una columna de índice para tener disponible la de Pais.\n",
    "df.reset_index(inplace=True)"
   ]
  },
  {
   "cell_type": "code",
   "execution_count": 22,
   "metadata": {},
   "outputs": [
    {
     "data": {
      "text/html": [
       "<div>\n",
       "<style scoped>\n",
       "    .dataframe tbody tr th:only-of-type {\n",
       "        vertical-align: middle;\n",
       "    }\n",
       "\n",
       "    .dataframe tbody tr th {\n",
       "        vertical-align: top;\n",
       "    }\n",
       "\n",
       "    .dataframe thead th {\n",
       "        text-align: right;\n",
       "    }\n",
       "</style>\n",
       "<table border=\"1\" class=\"dataframe\">\n",
       "  <thead>\n",
       "    <tr style=\"text-align: right;\">\n",
       "      <th>Series Name</th>\n",
       "      <th>Country Name</th>\n",
       "      <th>Agricultural raw materials exports (% of merchandise exports)</th>\n",
       "      <th>Computer; communications and other services (% of commercial service exports)</th>\n",
       "      <th>Exports of goods and services (% of GDP)</th>\n",
       "      <th>Food exports (% of merchandise exports)</th>\n",
       "      <th>Fuel exports (% of merchandise exports)</th>\n",
       "      <th>GDP growth (annual %)</th>\n",
       "      <th>High-technology exports (% of manufactured exports)</th>\n",
       "      <th>ICT service exports (% of service exports; BoP)</th>\n",
       "      <th>Insurance and financial services (% of service exports; BoP)</th>\n",
       "      <th>International tourism; receipts (% of total exports)</th>\n",
       "      <th>Manufactures exports (% of merchandise exports)</th>\n",
       "      <th>Merchandise exports to high-income economies (% of total merchandise exports)</th>\n",
       "      <th>Merchandise exports to low- and middle-income economies in Europe &amp; Central Asia (% of total merchandise exports)</th>\n",
       "      <th>Ores and metals exports (% of merchandise exports)</th>\n",
       "      <th>Taxes on exports (% of tax revenue)</th>\n",
       "      <th>Transport services (% of commercial service exports)</th>\n",
       "    </tr>\n",
       "  </thead>\n",
       "  <tbody>\n",
       "    <tr>\n",
       "      <th>0</th>\n",
       "      <td>Afghanistan</td>\n",
       "      <td>..</td>\n",
       "      <td>..</td>\n",
       "      <td>16.7751362822863</td>\n",
       "      <td>..</td>\n",
       "      <td>..</td>\n",
       "      <td>2.71088679128353</td>\n",
       "      <td>..</td>\n",
       "      <td>..</td>\n",
       "      <td>..</td>\n",
       "      <td>..</td>\n",
       "      <td>..</td>\n",
       "      <td>12.8798269363707</td>\n",
       "      <td>9.68241869729934</td>\n",
       "      <td>..</td>\n",
       "      <td>..</td>\n",
       "      <td>..</td>\n",
       "    </tr>\n",
       "    <tr>\n",
       "      <th>1</th>\n",
       "      <td>Africa Eastern and Southern</td>\n",
       "      <td>1.93287526195653</td>\n",
       "      <td>35.9298385263195</td>\n",
       "      <td>24.3483372544611</td>\n",
       "      <td>14.285851632509</td>\n",
       "      <td>25.4254224001233</td>\n",
       "      <td>2.32013780158925</td>\n",
       "      <td>5.80516538196113</td>\n",
       "      <td>6.10657347896149</td>\n",
       "      <td>6.08028700896879</td>\n",
       "      <td>..</td>\n",
       "      <td>29.1304853698777</td>\n",
       "      <td>44.3959450802976</td>\n",
       "      <td>0.471789673271105</td>\n",
       "      <td>23.4925994471713</td>\n",
       "      <td>..</td>\n",
       "      <td>22.9754549072797</td>\n",
       "    </tr>\n",
       "    <tr>\n",
       "      <th>2</th>\n",
       "      <td>Africa Western and Central</td>\n",
       "      <td>3.80482687815641</td>\n",
       "      <td>23.7057568350145</td>\n",
       "      <td>..</td>\n",
       "      <td>12.9874441377748</td>\n",
       "      <td>61.3705691120184</td>\n",
       "      <td>3.3547328190002</td>\n",
       "      <td>..</td>\n",
       "      <td>5.69176863421842</td>\n",
       "      <td>14.9934752391386</td>\n",
       "      <td>..</td>\n",
       "      <td>6.76897203140647</td>\n",
       "      <td>54.1428772898838</td>\n",
       "      <td>3.17153807284374</td>\n",
       "      <td>4.3390849886261</td>\n",
       "      <td>..</td>\n",
       "      <td>36.2200117483328</td>\n",
       "    </tr>\n",
       "    <tr>\n",
       "      <th>3</th>\n",
       "      <td>Albania</td>\n",
       "      <td>0.406032063201426</td>\n",
       "      <td>24.4301090197124</td>\n",
       "      <td>38.6650817896799</td>\n",
       "      <td>11.9640780632637</td>\n",
       "      <td>6.34538423879421</td>\n",
       "      <td>3.93662525742167</td>\n",
       "      <td>0.682326849473647</td>\n",
       "      <td>3.01397608748124</td>\n",
       "      <td>0.662505307988438</td>\n",
       "      <td>..</td>\n",
       "      <td>56.6139655531231</td>\n",
       "      <td>77.7081307571647</td>\n",
       "      <td>19.5159727248964</td>\n",
       "      <td>5.34944752843742</td>\n",
       "      <td>..</td>\n",
       "      <td>10.9287529629646</td>\n",
       "    </tr>\n",
       "    <tr>\n",
       "      <th>4</th>\n",
       "      <td>Algeria</td>\n",
       "      <td>..</td>\n",
       "      <td>59.1626427564765</td>\n",
       "      <td>23.6195363708424</td>\n",
       "      <td>..</td>\n",
       "      <td>..</td>\n",
       "      <td>4.10000000000004</td>\n",
       "      <td>..</td>\n",
       "      <td>2.21311390791552</td>\n",
       "      <td>10.2830758414755</td>\n",
       "      <td>..</td>\n",
       "      <td>..</td>\n",
       "      <td>80.1800299622258</td>\n",
       "      <td>6.36723723188521</td>\n",
       "      <td>..</td>\n",
       "      <td>..</td>\n",
       "      <td>25.4709095419937</td>\n",
       "    </tr>\n",
       "  </tbody>\n",
       "</table>\n",
       "</div>"
      ],
      "text/plain": [
       "Series Name                 Country Name  \\\n",
       "0                            Afghanistan   \n",
       "1            Africa Eastern and Southern   \n",
       "2             Africa Western and Central   \n",
       "3                                Albania   \n",
       "4                                Algeria   \n",
       "\n",
       "Series Name Agricultural raw materials exports (% of merchandise exports)  \\\n",
       "0                                                           ..              \n",
       "1                                             1.93287526195653              \n",
       "2                                             3.80482687815641              \n",
       "3                                            0.406032063201426              \n",
       "4                                                           ..              \n",
       "\n",
       "Series Name Computer; communications and other services (% of commercial service exports)  \\\n",
       "0                                                           ..                              \n",
       "1                                             35.9298385263195                              \n",
       "2                                             23.7057568350145                              \n",
       "3                                             24.4301090197124                              \n",
       "4                                             59.1626427564765                              \n",
       "\n",
       "Series Name Exports of goods and services (% of GDP)  \\\n",
       "0                                   16.7751362822863   \n",
       "1                                   24.3483372544611   \n",
       "2                                                 ..   \n",
       "3                                   38.6650817896799   \n",
       "4                                   23.6195363708424   \n",
       "\n",
       "Series Name Food exports (% of merchandise exports)  \\\n",
       "0                                                ..   \n",
       "1                                   14.285851632509   \n",
       "2                                  12.9874441377748   \n",
       "3                                  11.9640780632637   \n",
       "4                                                ..   \n",
       "\n",
       "Series Name Fuel exports (% of merchandise exports) GDP growth (annual %)  \\\n",
       "0                                                ..      2.71088679128353   \n",
       "1                                  25.4254224001233      2.32013780158925   \n",
       "2                                  61.3705691120184       3.3547328190002   \n",
       "3                                  6.34538423879421      3.93662525742167   \n",
       "4                                                ..      4.10000000000004   \n",
       "\n",
       "Series Name High-technology exports (% of manufactured exports)  \\\n",
       "0                                                           ..    \n",
       "1                                             5.80516538196113    \n",
       "2                                                           ..    \n",
       "3                                            0.682326849473647    \n",
       "4                                                           ..    \n",
       "\n",
       "Series Name ICT service exports (% of service exports; BoP)  \\\n",
       "0                                                        ..   \n",
       "1                                          6.10657347896149   \n",
       "2                                          5.69176863421842   \n",
       "3                                          3.01397608748124   \n",
       "4                                          2.21311390791552   \n",
       "\n",
       "Series Name Insurance and financial services (% of service exports; BoP)  \\\n",
       "0                                                           ..             \n",
       "1                                             6.08028700896879             \n",
       "2                                             14.9934752391386             \n",
       "3                                            0.662505307988438             \n",
       "4                                             10.2830758414755             \n",
       "\n",
       "Series Name International tourism; receipts (% of total exports)  \\\n",
       "0                                                           ..     \n",
       "1                                                           ..     \n",
       "2                                                           ..     \n",
       "3                                                           ..     \n",
       "4                                                           ..     \n",
       "\n",
       "Series Name Manufactures exports (% of merchandise exports)  \\\n",
       "0                                                        ..   \n",
       "1                                          29.1304853698777   \n",
       "2                                          6.76897203140647   \n",
       "3                                          56.6139655531231   \n",
       "4                                                        ..   \n",
       "\n",
       "Series Name Merchandise exports to high-income economies (% of total merchandise exports)  \\\n",
       "0                                             12.8798269363707                              \n",
       "1                                             44.3959450802976                              \n",
       "2                                             54.1428772898838                              \n",
       "3                                             77.7081307571647                              \n",
       "4                                             80.1800299622258                              \n",
       "\n",
       "Series Name Merchandise exports to low- and middle-income economies in Europe & Central Asia (% of total merchandise exports)  \\\n",
       "0                                             9.68241869729934                                                                  \n",
       "1                                            0.471789673271105                                                                  \n",
       "2                                             3.17153807284374                                                                  \n",
       "3                                             19.5159727248964                                                                  \n",
       "4                                             6.36723723188521                                                                  \n",
       "\n",
       "Series Name Ores and metals exports (% of merchandise exports)  \\\n",
       "0                                                           ..   \n",
       "1                                             23.4925994471713   \n",
       "2                                              4.3390849886261   \n",
       "3                                             5.34944752843742   \n",
       "4                                                           ..   \n",
       "\n",
       "Series Name Taxes on exports (% of tax revenue)  \\\n",
       "0                                            ..   \n",
       "1                                            ..   \n",
       "2                                            ..   \n",
       "3                                            ..   \n",
       "4                                            ..   \n",
       "\n",
       "Series Name Transport services (% of commercial service exports)  \n",
       "0                                                           ..    \n",
       "1                                             22.9754549072797    \n",
       "2                                             36.2200117483328    \n",
       "3                                             10.9287529629646    \n",
       "4                                             25.4709095419937    "
      ]
     },
     "execution_count": 22,
     "metadata": {},
     "output_type": "execute_result"
    }
   ],
   "source": [
    "df.head()"
   ]
  },
  {
   "cell_type": "markdown",
   "metadata": {
    "id": "1Qh41mXqbU2j"
   },
   "source": [
    "### Pregunta 2.1\n",
    "\n",
    "Debido a que la pregunta de interés es sobre identificación de grupos de países, elime filas donde `Country Name` sea igual a cualquiera de los siguientes valores:\n",
    "\n",
    "- \"Africa Eastern and Southern\"  \n",
    "- \"Africa Western and Central\"  \n",
    "- \"Arab World\"  \n",
    "- \"Caribbean small states\"  \n",
    "- \"Central Europe and the Baltics\"  \n",
    "- \"Early-demographic dividend\"  \n",
    "- \"East Asia & Pacific\"  \n",
    "- \"East Asia & Pacific (IDA & IBRD countries)\"  \n",
    "- \"East Asia & Pacific (excluding high income)\"  \n",
    "- \"Euro area\"  \n",
    "- \"Europe & Central Asia\"  \n",
    "- \"Europe & Central Asia (IDA & IBRD countries)\"  \n",
    "- \"Europe & Central Asia (excluding high income)\"  \n",
    "- \"European Union\"  \n",
    "- \"Fragile and conflict affected situations\"  \n",
    "- \"Heavily indebted poor countries (HIPC)\"  \n",
    "- \"High income\"  \n",
    "- \"IBRD only\"  \n",
    "- \"IDA & IBRD total\"  \n",
    "- \"IDA blend\"  \n",
    "- \"IDA only\"  \n",
    "- \"IDA total\"  \n",
    "- \"Late-demographic dividend\"  \n",
    "- \"Latin America & Caribbean\"  \n",
    "- \"Latin America & Caribbean (excluding high income)\"  \n",
    "- \"Latin America & the Caribbean (IDA & IBRD countries)\"  \n",
    "- \"Least developed countries: UN classification\"  \n",
    "- \"Low & middle income\"  \n",
    "- \"Low income\"  \n",
    "- \"Lower middle income\"  \n",
    "- \"Middle East & North Africa\"  \n",
    "- \"Middle East & North Africa (IDA & IBRD countries)\"  \n",
    "- \"Middle East & North Africa (excluding high income)\"  \n",
    "- \"Middle income\"  \n",
    "- \"North America\"  \n",
    "- \"Not classified\"  \n",
    "- \"OECD members\"  \n",
    "- \"Other small states\"  \n",
    "- \"Pacific island small states\"  \n",
    "- \"Post-demographic dividend\"  \n",
    "- \"Pre-demographic dividend\"  \n",
    "- \"Small states\"  \n",
    "- \"South Asia\"  \n",
    "- \"South Asia (IDA & IBRD)\"  \n",
    "- \"Sub-Saharan Africa\"  \n",
    "- \"Sub-Saharan Africa (IDA & IBRD countries)\"  \n",
    "- \"Sub-Saharan Africa (excluding high income)\"  \n",
    "- \"Upper middle income\"  \n",
    "- \"World\"\n",
    "\n",
    "\n"
   ]
  },
  {
   "cell_type": "code",
   "execution_count": 29,
   "metadata": {
    "id": "3s_ZAF_snmCI"
   },
   "outputs": [],
   "source": [
    "elim_list = \"\"\" - \"Africa Eastern and Southern\"  \n",
    "- \"Africa Western and Central\"  \n",
    "- \"Arab World\"  \n",
    "- \"Caribbean small states\"  \n",
    "- \"Central Europe and the Baltics\"  \n",
    "- \"Early-demographic dividend\"  \n",
    "- \"East Asia & Pacific\"  \n",
    "- \"East Asia & Pacific (IDA & IBRD countries)\"  \n",
    "- \"East Asia & Pacific (excluding high income)\"  \n",
    "- \"Euro area\"  \n",
    "- \"Europe & Central Asia\"  \n",
    "- \"Europe & Central Asia (IDA & IBRD countries)\"  \n",
    "- \"Europe & Central Asia (excluding high income)\"  \n",
    "- \"European Union\"  \n",
    "- \"Fragile and conflict affected situations\"  \n",
    "- \"Heavily indebted poor countries (HIPC)\"  \n",
    "- \"High income\"  \n",
    "- \"IBRD only\"  \n",
    "- \"IDA & IBRD total\"  \n",
    "- \"IDA blend\"  \n",
    "- \"IDA only\"  \n",
    "- \"IDA total\"  \n",
    "- \"Late-demographic dividend\"  \n",
    "- \"Latin America & Caribbean\"  \n",
    "- \"Latin America & Caribbean (excluding high income)\"  \n",
    "- \"Latin America & the Caribbean (IDA & IBRD countries)\"  \n",
    "- \"Least developed countries: UN classification\"  \n",
    "- \"Low & middle income\"  \n",
    "- \"Low income\"  \n",
    "- \"Lower middle income\"  \n",
    "- \"Middle East & North Africa\"  \n",
    "- \"Middle East & North Africa (IDA & IBRD countries)\"  \n",
    "- \"Middle East & North Africa (excluding high income)\"  \n",
    "- \"Middle income\"  \n",
    "- \"North America\"  \n",
    "- \"Not classified\"  \n",
    "- \"OECD members\"  \n",
    "- \"Other small states\"  \n",
    "- \"Pacific island small states\"  \n",
    "- \"Post-demographic dividend\"  \n",
    "- \"Pre-demographic dividend\"  \n",
    "- \"Small states\"  \n",
    "- \"South Asia\"  \n",
    "- \"South Asia (IDA & IBRD)\"  \n",
    "- \"Sub-Saharan Africa\"  \n",
    "- \"Sub-Saharan Africa (IDA & IBRD countries)\"  \n",
    "- \"Sub-Saharan Africa (excluding high income)\"  \n",
    "- \"Upper middle income\"  \n",
    "- \"World\" \"\"\"\n"
   ]
  },
  {
   "cell_type": "code",
   "execution_count": 30,
   "metadata": {},
   "outputs": [],
   "source": [
    "# for entry in elim_list: Primero separa a cada país eliminando \\n\n",
    "# Luego, remueve '-' y despues las \"\"\"\", solo si hay algo (if entry).\n",
    "\n",
    "elim_list = [entry.strip('- ').strip('\"') for entry in elim_list.split(\"\\n\") if entry]"
   ]
  },
  {
   "cell_type": "code",
   "execution_count": 33,
   "metadata": {},
   "outputs": [],
   "source": [
    "# eliminamos las columnas\n",
    "df = df[~df[\"Country Name\"].isin(elim_list)]"
   ]
  },
  {
   "cell_type": "markdown",
   "metadata": {
    "id": "ofrLMQgZbnU-"
   },
   "source": [
    "### Pregunta 2.2\n",
    "\n",
    "Reemplace todos los valores `\"..\"` por `NA`. Luego, transforme las columnas a variables numéricas y despliegue estadísticas descriptivas.\n"
   ]
  },
  {
   "cell_type": "code",
   "execution_count": 36,
   "metadata": {
    "id": "H4CthDucnoKJ"
   },
   "outputs": [],
   "source": [
    "df = df.replace(\"..\", np.nan)"
   ]
  },
  {
   "cell_type": "code",
   "execution_count": 39,
   "metadata": {},
   "outputs": [],
   "source": [
    "df[df.columns[1:]] = df[df.columns[1:]].apply(pd.to_numeric, errors=\"coerce\")"
   ]
  },
  {
   "cell_type": "code",
   "execution_count": 43,
   "metadata": {},
   "outputs": [
    {
     "data": {
      "text/html": [
       "<div>\n",
       "<style scoped>\n",
       "    .dataframe tbody tr th:only-of-type {\n",
       "        vertical-align: middle;\n",
       "    }\n",
       "\n",
       "    .dataframe tbody tr th {\n",
       "        vertical-align: top;\n",
       "    }\n",
       "\n",
       "    .dataframe thead th {\n",
       "        text-align: right;\n",
       "    }\n",
       "</style>\n",
       "<table border=\"1\" class=\"dataframe\">\n",
       "  <thead>\n",
       "    <tr style=\"text-align: right;\">\n",
       "      <th>Series Name</th>\n",
       "      <th>Agricultural raw materials exports (% of merchandise exports)</th>\n",
       "      <th>Computer; communications and other services (% of commercial service exports)</th>\n",
       "      <th>Exports of goods and services (% of GDP)</th>\n",
       "      <th>Food exports (% of merchandise exports)</th>\n",
       "      <th>Fuel exports (% of merchandise exports)</th>\n",
       "      <th>GDP growth (annual %)</th>\n",
       "      <th>High-technology exports (% of manufactured exports)</th>\n",
       "      <th>ICT service exports (% of service exports; BoP)</th>\n",
       "      <th>Insurance and financial services (% of service exports; BoP)</th>\n",
       "      <th>International tourism; receipts (% of total exports)</th>\n",
       "      <th>Manufactures exports (% of merchandise exports)</th>\n",
       "      <th>Merchandise exports to high-income economies (% of total merchandise exports)</th>\n",
       "      <th>Merchandise exports to low- and middle-income economies in Europe &amp; Central Asia (% of total merchandise exports)</th>\n",
       "      <th>Ores and metals exports (% of merchandise exports)</th>\n",
       "      <th>Taxes on exports (% of tax revenue)</th>\n",
       "      <th>Transport services (% of commercial service exports)</th>\n",
       "    </tr>\n",
       "  </thead>\n",
       "  <tbody>\n",
       "    <tr>\n",
       "      <th>count</th>\n",
       "      <td>149.000000</td>\n",
       "      <td>161.000000</td>\n",
       "      <td>158.000000</td>\n",
       "      <td>149.000000</td>\n",
       "      <td>145.000000</td>\n",
       "      <td>195.000000</td>\n",
       "      <td>147.000000</td>\n",
       "      <td>157.000000</td>\n",
       "      <td>152.000000</td>\n",
       "      <td>0.0</td>\n",
       "      <td>149.000000</td>\n",
       "      <td>205.000000</td>\n",
       "      <td>192.000000</td>\n",
       "      <td>149.000000</td>\n",
       "      <td>22.000000</td>\n",
       "      <td>161.000000</td>\n",
       "    </tr>\n",
       "    <tr>\n",
       "      <th>mean</th>\n",
       "      <td>2.726255</td>\n",
       "      <td>35.005284</td>\n",
       "      <td>45.398868</td>\n",
       "      <td>24.136526</td>\n",
       "      <td>14.275881</td>\n",
       "      <td>3.241160</td>\n",
       "      <td>11.352849</td>\n",
       "      <td>10.234009</td>\n",
       "      <td>5.732781</td>\n",
       "      <td>NaN</td>\n",
       "      <td>42.098438</td>\n",
       "      <td>60.914241</td>\n",
       "      <td>5.096570</td>\n",
       "      <td>9.476862</td>\n",
       "      <td>2.624425</td>\n",
       "      <td>20.583359</td>\n",
       "    </tr>\n",
       "    <tr>\n",
       "      <th>std</th>\n",
       "      <td>7.416283</td>\n",
       "      <td>23.550764</td>\n",
       "      <td>33.331007</td>\n",
       "      <td>23.862474</td>\n",
       "      <td>23.215387</td>\n",
       "      <td>6.641153</td>\n",
       "      <td>13.507894</td>\n",
       "      <td>11.534976</td>\n",
       "      <td>7.703914</td>\n",
       "      <td>NaN</td>\n",
       "      <td>29.236666</td>\n",
       "      <td>24.978469</td>\n",
       "      <td>11.628976</td>\n",
       "      <td>15.470820</td>\n",
       "      <td>4.899022</td>\n",
       "      <td>16.870115</td>\n",
       "    </tr>\n",
       "    <tr>\n",
       "      <th>min</th>\n",
       "      <td>0.000000</td>\n",
       "      <td>0.935706</td>\n",
       "      <td>1.108109</td>\n",
       "      <td>0.079874</td>\n",
       "      <td>0.000000</td>\n",
       "      <td>-20.111576</td>\n",
       "      <td>0.000000</td>\n",
       "      <td>0.043145</td>\n",
       "      <td>0.008135</td>\n",
       "      <td>NaN</td>\n",
       "      <td>0.210353</td>\n",
       "      <td>0.121224</td>\n",
       "      <td>0.000034</td>\n",
       "      <td>0.000000</td>\n",
       "      <td>0.000002</td>\n",
       "      <td>0.663447</td>\n",
       "    </tr>\n",
       "    <tr>\n",
       "      <th>25%</th>\n",
       "      <td>0.343928</td>\n",
       "      <td>13.309551</td>\n",
       "      <td>23.637110</td>\n",
       "      <td>8.338115</td>\n",
       "      <td>0.498740</td>\n",
       "      <td>1.168088</td>\n",
       "      <td>2.226174</td>\n",
       "      <td>2.681207</td>\n",
       "      <td>1.319000</td>\n",
       "      <td>NaN</td>\n",
       "      <td>15.347126</td>\n",
       "      <td>43.902677</td>\n",
       "      <td>0.244645</td>\n",
       "      <td>1.353868</td>\n",
       "      <td>0.046153</td>\n",
       "      <td>7.784412</td>\n",
       "    </tr>\n",
       "    <tr>\n",
       "      <th>50%</th>\n",
       "      <td>0.794963</td>\n",
       "      <td>32.273353</td>\n",
       "      <td>38.790357</td>\n",
       "      <td>15.056512</td>\n",
       "      <td>4.097826</td>\n",
       "      <td>2.960181</td>\n",
       "      <td>6.030929</td>\n",
       "      <td>7.285006</td>\n",
       "      <td>3.203366</td>\n",
       "      <td>NaN</td>\n",
       "      <td>37.251121</td>\n",
       "      <td>65.682415</td>\n",
       "      <td>0.942470</td>\n",
       "      <td>3.138350</td>\n",
       "      <td>0.232860</td>\n",
       "      <td>15.739129</td>\n",
       "    </tr>\n",
       "    <tr>\n",
       "      <th>75%</th>\n",
       "      <td>2.120083</td>\n",
       "      <td>53.862266</td>\n",
       "      <td>56.494967</td>\n",
       "      <td>32.790842</td>\n",
       "      <td>15.770449</td>\n",
       "      <td>4.987486</td>\n",
       "      <td>16.841983</td>\n",
       "      <td>12.745838</td>\n",
       "      <td>7.163361</td>\n",
       "      <td>NaN</td>\n",
       "      <td>68.665103</td>\n",
       "      <td>82.370504</td>\n",
       "      <td>3.269713</td>\n",
       "      <td>8.391231</td>\n",
       "      <td>1.419763</td>\n",
       "      <td>27.632283</td>\n",
       "    </tr>\n",
       "    <tr>\n",
       "      <th>max</th>\n",
       "      <td>63.703068</td>\n",
       "      <td>95.860793</td>\n",
       "      <td>212.530618</td>\n",
       "      <td>98.210416</td>\n",
       "      <td>95.516439</td>\n",
       "      <td>75.061377</td>\n",
       "      <td>72.315489</td>\n",
       "      <td>61.766896</td>\n",
       "      <td>55.672826</td>\n",
       "      <td>NaN</td>\n",
       "      <td>94.990393</td>\n",
       "      <td>97.770966</td>\n",
       "      <td>96.949670</td>\n",
       "      <td>76.471800</td>\n",
       "      <td>15.578989</td>\n",
       "      <td>86.950670</td>\n",
       "    </tr>\n",
       "  </tbody>\n",
       "</table>\n",
       "</div>"
      ],
      "text/plain": [
       "Series Name  Agricultural raw materials exports (% of merchandise exports)  \\\n",
       "count                                               149.000000               \n",
       "mean                                                  2.726255               \n",
       "std                                                   7.416283               \n",
       "min                                                   0.000000               \n",
       "25%                                                   0.343928               \n",
       "50%                                                   0.794963               \n",
       "75%                                                   2.120083               \n",
       "max                                                  63.703068               \n",
       "\n",
       "Series Name  Computer; communications and other services (% of commercial service exports)  \\\n",
       "count                                               161.000000                               \n",
       "mean                                                 35.005284                               \n",
       "std                                                  23.550764                               \n",
       "min                                                   0.935706                               \n",
       "25%                                                  13.309551                               \n",
       "50%                                                  32.273353                               \n",
       "75%                                                  53.862266                               \n",
       "max                                                  95.860793                               \n",
       "\n",
       "Series Name  Exports of goods and services (% of GDP)  \\\n",
       "count                                      158.000000   \n",
       "mean                                        45.398868   \n",
       "std                                         33.331007   \n",
       "min                                          1.108109   \n",
       "25%                                         23.637110   \n",
       "50%                                         38.790357   \n",
       "75%                                         56.494967   \n",
       "max                                        212.530618   \n",
       "\n",
       "Series Name  Food exports (% of merchandise exports)  \\\n",
       "count                                     149.000000   \n",
       "mean                                       24.136526   \n",
       "std                                        23.862474   \n",
       "min                                         0.079874   \n",
       "25%                                         8.338115   \n",
       "50%                                        15.056512   \n",
       "75%                                        32.790842   \n",
       "max                                        98.210416   \n",
       "\n",
       "Series Name  Fuel exports (% of merchandise exports)  GDP growth (annual %)  \\\n",
       "count                                     145.000000             195.000000   \n",
       "mean                                       14.275881               3.241160   \n",
       "std                                        23.215387               6.641153   \n",
       "min                                         0.000000             -20.111576   \n",
       "25%                                         0.498740               1.168088   \n",
       "50%                                         4.097826               2.960181   \n",
       "75%                                        15.770449               4.987486   \n",
       "max                                        95.516439              75.061377   \n",
       "\n",
       "Series Name  High-technology exports (% of manufactured exports)  \\\n",
       "count                                               147.000000     \n",
       "mean                                                 11.352849     \n",
       "std                                                  13.507894     \n",
       "min                                                   0.000000     \n",
       "25%                                                   2.226174     \n",
       "50%                                                   6.030929     \n",
       "75%                                                  16.841983     \n",
       "max                                                  72.315489     \n",
       "\n",
       "Series Name  ICT service exports (% of service exports; BoP)  \\\n",
       "count                                             157.000000   \n",
       "mean                                               10.234009   \n",
       "std                                                11.534976   \n",
       "min                                                 0.043145   \n",
       "25%                                                 2.681207   \n",
       "50%                                                 7.285006   \n",
       "75%                                                12.745838   \n",
       "max                                                61.766896   \n",
       "\n",
       "Series Name  Insurance and financial services (% of service exports; BoP)  \\\n",
       "count                                               152.000000              \n",
       "mean                                                  5.732781              \n",
       "std                                                   7.703914              \n",
       "min                                                   0.008135              \n",
       "25%                                                   1.319000              \n",
       "50%                                                   3.203366              \n",
       "75%                                                   7.163361              \n",
       "max                                                  55.672826              \n",
       "\n",
       "Series Name  International tourism; receipts (% of total exports)  \\\n",
       "count                                                      0.0      \n",
       "mean                                                       NaN      \n",
       "std                                                        NaN      \n",
       "min                                                        NaN      \n",
       "25%                                                        NaN      \n",
       "50%                                                        NaN      \n",
       "75%                                                        NaN      \n",
       "max                                                        NaN      \n",
       "\n",
       "Series Name  Manufactures exports (% of merchandise exports)  \\\n",
       "count                                             149.000000   \n",
       "mean                                               42.098438   \n",
       "std                                                29.236666   \n",
       "min                                                 0.210353   \n",
       "25%                                                15.347126   \n",
       "50%                                                37.251121   \n",
       "75%                                                68.665103   \n",
       "max                                                94.990393   \n",
       "\n",
       "Series Name  Merchandise exports to high-income economies (% of total merchandise exports)  \\\n",
       "count                                               205.000000                               \n",
       "mean                                                 60.914241                               \n",
       "std                                                  24.978469                               \n",
       "min                                                   0.121224                               \n",
       "25%                                                  43.902677                               \n",
       "50%                                                  65.682415                               \n",
       "75%                                                  82.370504                               \n",
       "max                                                  97.770966                               \n",
       "\n",
       "Series Name  Merchandise exports to low- and middle-income economies in Europe & Central Asia (% of total merchandise exports)  \\\n",
       "count                                               192.000000                                                                   \n",
       "mean                                                  5.096570                                                                   \n",
       "std                                                  11.628976                                                                   \n",
       "min                                                   0.000034                                                                   \n",
       "25%                                                   0.244645                                                                   \n",
       "50%                                                   0.942470                                                                   \n",
       "75%                                                   3.269713                                                                   \n",
       "max                                                  96.949670                                                                   \n",
       "\n",
       "Series Name  Ores and metals exports (% of merchandise exports)  \\\n",
       "count                                               149.000000    \n",
       "mean                                                  9.476862    \n",
       "std                                                  15.470820    \n",
       "min                                                   0.000000    \n",
       "25%                                                   1.353868    \n",
       "50%                                                   3.138350    \n",
       "75%                                                   8.391231    \n",
       "max                                                  76.471800    \n",
       "\n",
       "Series Name  Taxes on exports (% of tax revenue)  \\\n",
       "count                                  22.000000   \n",
       "mean                                    2.624425   \n",
       "std                                     4.899022   \n",
       "min                                     0.000002   \n",
       "25%                                     0.046153   \n",
       "50%                                     0.232860   \n",
       "75%                                     1.419763   \n",
       "max                                    15.578989   \n",
       "\n",
       "Series Name  Transport services (% of commercial service exports)  \n",
       "count                                               161.000000     \n",
       "mean                                                 20.583359     \n",
       "std                                                  16.870115     \n",
       "min                                                   0.663447     \n",
       "25%                                                   7.784412     \n",
       "50%                                                  15.739129     \n",
       "75%                                                  27.632283     \n",
       "max                                                  86.950670     "
      ]
     },
     "execution_count": 43,
     "metadata": {},
     "output_type": "execute_result"
    }
   ],
   "source": [
    "df.describe()"
   ]
  },
  {
   "cell_type": "markdown",
   "metadata": {
    "id": "0ZA1-qSlb9QR"
   },
   "source": [
    "### Pregunta 2.3\n",
    "\n",
    "Grafique la distribución empírica de todas las variables numéricas del dataset. Comente sobre cada una de ellas."
   ]
  },
  {
   "cell_type": "code",
   "execution_count": null,
   "metadata": {
    "id": "6VFd6S1bnpSA"
   },
   "outputs": [],
   "source": []
  },
  {
   "cell_type": "markdown",
   "metadata": {
    "id": "zx1BvF5mfFzl"
   },
   "source": [
    "\n",
    "\n",
    "\n",
    "---\n",
    "\n",
    "\n",
    "*Escriba* su respuesta en esta celda...\n",
    "\n",
    "\n",
    "---\n"
   ]
  },
  {
   "cell_type": "markdown",
   "metadata": {
    "id": "YTHSDT2ccQcc"
   },
   "source": [
    "## Missing Values"
   ]
  },
  {
   "cell_type": "markdown",
   "metadata": {
    "id": "cI_AR-AacScC"
   },
   "source": [
    "### Pregunta 2.4\n",
    "\n",
    "Realice análisis de valores vacíos y tratamiento de estos. Se premiará mantener el mayor número de observaciones posibles bajo criterios razonables. Luego de esta pregunta no deben quedar nulos en el _dataframe_ a utilizar.\n"
   ]
  },
  {
   "cell_type": "code",
   "execution_count": null,
   "metadata": {
    "id": "9fHxElRrnu07"
   },
   "outputs": [],
   "source": []
  },
  {
   "cell_type": "markdown",
   "metadata": {
    "id": "iUgaRkuEdioX"
   },
   "source": [
    "## Outliers"
   ]
  },
  {
   "cell_type": "markdown",
   "metadata": {
    "id": "nVe-WtBYdiUl"
   },
   "source": [
    "### Pregunta 2.5\n",
    "\n",
    "Realice análisis de datos _outliers_. De ser necesario aplique un procesamiento de outliers, de no ser necesario justifique.\n",
    "\n",
    "Se premiará el buen criterio fundamentado."
   ]
  },
  {
   "cell_type": "code",
   "execution_count": null,
   "metadata": {
    "id": "X9-79aNWd7ka"
   },
   "outputs": [],
   "source": []
  },
  {
   "cell_type": "markdown",
   "metadata": {
    "id": "uB_EWD0xeBEI"
   },
   "source": [
    "\n",
    "\n",
    "\n",
    "---\n",
    "\n",
    "\n",
    "*Escriba* su respuesta en esta celda...\n",
    "\n",
    "\n",
    "---\n"
   ]
  },
  {
   "cell_type": "markdown",
   "metadata": {
    "id": "4KtgZLAgeJ4S"
   },
   "source": [
    "## Feature Engineering\n"
   ]
  },
  {
   "cell_type": "markdown",
   "metadata": {},
   "source": [
    "Cree un _pipeline_ de preprocesamiento con las siguientes transformaciones a las columnas correspondientes:\n",
    "\n",
    "*   **Columnas Numéricas** : Aplique un `StandardScaler` para estandarizar estas variables.\n",
    "*   **Columnas Categóricas No Binarias** : Aplique `OneHotEncoder` para crear variables dummy. Asegúrese de manejar posibles categorías desconocidas durante la transformación.\n",
    "*   **Columnas a Eliminar** : Elimine columnas que dejan de ser relavantes luego de las trasformaciones.\n",
    "*  **Columnas Dummies MultiNivel** : cree columnas dummies para las variables multi categoricas (tomando codificadas a 0s y 1s =, para su respctiva categoria)\n",
    "*  **Columnas Label Encoding MultiNivel** : Dentro de las columnas multinivel hay 2 columnas que presentan un orden natural. e.g. en la columna 'month' tenemos que 'jan' < 'feb' < 'dec'. Aplique en la columna 'month' y otra columna que deberá determinar usted un label encoder que capture ese ordenamiento natural, luego normalice con un minmax scaler para que las columnas varien entre 0 y 1.\n",
    "\n",
    "\n",
    "Una vez creado el pipeline, aplíquelo a su conjunto de features (`X`). Muestre la forma (_shape_) del dataset original y del dataset procesado para verificar los cambios. ¿Cuántas nuevas columnas hay?\n",
    "\n",
    "Adicionalmente, elimine del análisis la variable `day_of_week`. Si considera necesario realizar transformaciones adicionales a las variables, realicelas en este punto."
   ]
  },
  {
   "cell_type": "markdown",
   "metadata": {
    "id": "RHRrwHCjeOQt"
   },
   "source": [
    "### Pregunta 2.6\n",
    "\n",
    "Realice _feature engineering_ de las variables numéricas (para luego entrenar un modelo _K-Means_ con estas). Realice los ajustes que estime conveniente, pero su tratamiento debe incluir por lo menos estandarización de las variables.\n",
    "\n",
    "Más adelante se le pedirá comentar sobre los resultados de sus modelos, por lo que considere que sus decisiones podrían condicionar futuras preguntas.\n",
    "\n"
   ]
  },
  {
   "cell_type": "code",
   "execution_count": null,
   "metadata": {
    "id": "v19_TyO6n29C"
   },
   "outputs": [],
   "source": []
  },
  {
   "cell_type": "markdown",
   "metadata": {
    "id": "B2wxZhGQe2DR"
   },
   "source": [
    "## K-Means"
   ]
  },
  {
   "cell_type": "markdown",
   "metadata": {
    "id": "0phACBFse5FQ"
   },
   "source": [
    "### Pregunta 2.7\n",
    "\n",
    "Considerando el dataframe completo (todas sus columnas atributos), determine el número óptimo de clusters mediante el \"Elbow method\". Considere un rango $k \\in [1, 30]$. Describa el comportamiento observado de la curva.\n",
    "\n"
   ]
  },
  {
   "cell_type": "code",
   "execution_count": null,
   "metadata": {
    "id": "sIVhrILyn5gf"
   },
   "outputs": [],
   "source": []
  },
  {
   "cell_type": "markdown",
   "metadata": {
    "id": "uHY07twufOzi"
   },
   "source": [
    "\n",
    "\n",
    "\n",
    "---\n",
    "\n",
    "\n",
    "*Escriba* su respuesta en esta celda...\n",
    "\n",
    "\n",
    "---\n"
   ]
  },
  {
   "cell_type": "markdown",
   "metadata": {
    "id": "4yazbr8afPbQ"
   },
   "source": [
    "### Pregunta 2.8\n",
    "\n",
    "Un problema habitual del modelo _K-Means_ es que pierde desempeño a mayor dimensionalidad.\n",
    "\n",
    "En esta pregunta defina **por lo menos 5 combinaciones de columnas** (mínimo 2 columnas y máximo 4). Para cada combinación determine el número óptimo de clusters mediante el \"Elbow method\" considerando $k \\in [1, 30]$.\n",
    "\n",
    "Un posible enfoque para lo anterior es tomar un _approach_ estadístico y escoger variables que empíricamente muestran mayores indicios de poder diferenciador entre las observaciones. De todas formas, recuerde que la pregunta de interés es \"¿qué países se verán expuestos de forma similar a la guerra comercial?\". En este sentido, es altamente recomendable escoger variables con una mayor relación al fenómeno de la guerra comercial, ya que puede ser útil para discernir de qué forma podría verse expuesto cada grupo.\n"
   ]
  },
  {
   "cell_type": "code",
   "execution_count": null,
   "metadata": {
    "id": "1TgUQ3qTn_1e"
   },
   "outputs": [],
   "source": []
  },
  {
   "cell_type": "markdown",
   "metadata": {
    "id": "DfCJ0UdsoKYv"
   },
   "source": [
    "---\n",
    "\n",
    "\n",
    "*Escriba* su respuesta en esta celda...\n",
    "\n",
    "\n",
    "---"
   ]
  },
  {
   "cell_type": "markdown",
   "metadata": {
    "id": "x-3BnLyGf6_d"
   },
   "source": [
    "### Pregunta 2.9\n",
    "\n",
    "Escoja la combinación de columnas que considera adecuada emplear, refiriéndose tanto al comportamiento observado de la curva, como al nivel de la métrica empleada al que se alcanza la convergencia.\n",
    "\n",
    "Estime el modelo con $k$ óptimo y las columnas escogidas. Visualice los grupos graficando _scatterplots_. Considere gráficos en 3 dimensiones si su modelo posee 3 o más variables.\n",
    "\n",
    "Describa en qué se diferencian los grupos encontrados y de qué manera le podría afectar la guerra comercial a cada uno. Liste una pequeña muestra representativa de los países que contiene cada grupo.\n"
   ]
  },
  {
   "cell_type": "code",
   "execution_count": null,
   "metadata": {
    "id": "Ykx7WhqYoDR8"
   },
   "outputs": [],
   "source": []
  },
  {
   "cell_type": "markdown",
   "metadata": {
    "id": "AYngTiIioLfC"
   },
   "source": [
    "---\n",
    "\n",
    "\n",
    "*Escriba* su respuesta en esta celda...\n",
    "\n",
    "\n",
    "---"
   ]
  },
  {
   "cell_type": "markdown",
   "metadata": {
    "id": "s22z7zCcgYvP"
   },
   "source": [
    "## PCA"
   ]
  },
  {
   "cell_type": "markdown",
   "metadata": {
    "id": "r1Yb5QW2kC8a"
   },
   "source": [
    "_PCA_ es una técnica de reducción de dimensionalidad que nos permite trabajar sobre un set de componentes principales ortogonales (mayor facilidad para los modelos a la hora de detectar patrones), además de permitirnos visualizar espacios multidimensionales, quedándonos sobre el espacio de PCA.\n",
    "\n"
   ]
  },
  {
   "cell_type": "markdown",
   "metadata": {
    "id": "dTURpbklkLYF"
   },
   "source": [
    "### Pregunta 2.10\n",
    "\n",
    "Utilizando todas las variables originales y $k$ óptimo escogido en la pregunta anterior, estime un PCA con 2 componentes principales. Luego, estime un modelo _K-Means_ sobre los componentes principales obtenidos. Grafique las observaciones en un _scatterplot_ de 2 dimensiones. Coloree los puntos usando los label de los clusters obtenidos.\n",
    "\n",
    "¿Cuáles son las principales diferencias entre los grupos? Encuentre las variables más definitivas a la hora de agrupar países con los 2 primeros componentes principales.\n"
   ]
  },
  {
   "cell_type": "code",
   "execution_count": null,
   "metadata": {
    "id": "raKFyPU1oQue"
   },
   "outputs": [],
   "source": []
  },
  {
   "cell_type": "markdown",
   "metadata": {
    "id": "FmUGY54-oRDz"
   },
   "source": [
    "---\n",
    "\n",
    "\n",
    "*Escriba* su respuesta en esta celda...\n",
    "\n",
    "\n",
    "---"
   ]
  },
  {
   "cell_type": "markdown",
   "metadata": {
    "id": "i1c8s2S1kev9"
   },
   "source": [
    "### Pregunta 2.11\n",
    "\n",
    "\n",
    "Repita lo anterior  (descripción incluida), pero con 3 componentes principales y un _scatterplot_ en 3 dimensiones."
   ]
  },
  {
   "cell_type": "code",
   "execution_count": null,
   "metadata": {
    "id": "b9mfhImWoTe3"
   },
   "outputs": [],
   "source": []
  },
  {
   "cell_type": "markdown",
   "metadata": {
    "id": "mEhG29aSoTke"
   },
   "source": [
    "---\n",
    "\n",
    "\n",
    "*Escriba* su respuesta en esta celda...\n",
    "\n",
    "\n",
    "---"
   ]
  },
  {
   "cell_type": "markdown",
   "metadata": {
    "id": "e-5FNbkDgaP5"
   },
   "source": [
    "### Pregunta 2.12\n",
    "\n",
    "Otro de los usos de los más comúnes de _PCA_, además de _feature engineering_, es la visualización. En esta sección utilizaremos _PCA_ para confirmar visualmente que estamos clusterizando países similares.\n",
    "\n",
    "Usando el diccionario en la celda de abajo agrega una columna de continente al _dataframe_ de trabajo."
   ]
  },
  {
   "cell_type": "code",
   "execution_count": null,
   "metadata": {
    "id": "xocjfeXfgehD"
   },
   "outputs": [],
   "source": [
    "country_continent_mapping = {\n",
    "    'Albania': 'Europe',\n",
    "    'Argentina': 'South America',\n",
    "    'Armenia': 'Asia',\n",
    "    'Aruba': 'North America', # Usually classified with the Caribbean\n",
    "    'Australia': 'Oceania',\n",
    "    'Austria': 'Europe',\n",
    "    'Azerbaijan': 'Asia',\n",
    "    'Bahrain': 'Asia',\n",
    "    'Belgium': 'Europe',\n",
    "    'Belize': 'North America',\n",
    "    'Bolivia': 'South America',\n",
    "    'Bosnia and Herzegovina': 'Europe',\n",
    "    'Botswana': 'Africa',\n",
    "    'Brazil': 'South America',\n",
    "    'Brunei Darussalam': 'Asia',\n",
    "    'Bulgaria': 'Europe',\n",
    "    'Burkina Faso': 'Africa',\n",
    "    'Cabo Verde': 'Africa',\n",
    "    'Canada': 'North America',\n",
    "    'Chile': 'South America',\n",
    "    'China': 'Asia',\n",
    "    'Colombia': 'South America',\n",
    "    'Congo Dem. Rep.': 'Africa',\n",
    "    'Costa Rica': 'North America',\n",
    "    'Croatia': 'Europe',\n",
    "    'Cyprus': 'Asia',\n",
    "    'Czechia': 'Europe',\n",
    "    'Denmark': 'Europe',\n",
    "    'Dominican Republic': 'North America',\n",
    "    'Ecuador': 'South America',\n",
    "    'Egypt': 'Africa', # Transcontinental, but usually Africa\n",
    "    'El Salvador': 'North America',\n",
    "    'Estonia': 'Europe',\n",
    "    'Ethiopia': 'Africa',\n",
    "    'Finland': 'Europe',\n",
    "    'France': 'Europe',\n",
    "    'Gambia': 'Africa',\n",
    "    'Georgia': 'Asia',\n",
    "    'Germany': 'Europe',\n",
    "    'Ghana': 'Africa',\n",
    "    'Greece': 'Europe',\n",
    "    'Guatemala': 'North America',\n",
    "    'Honduras': 'North America',\n",
    "    'Hong Kong': 'Asia',\n",
    "    'Hungary': 'Europe',\n",
    "    'Iceland': 'Europe',\n",
    "    'India': 'Asia',\n",
    "    'Indonesia': 'Asia',\n",
    "    'Ireland': 'Europe',\n",
    "    'Italy': 'Europe',\n",
    "    'Japan': 'Asia',\n",
    "    'Jordan': 'Asia',\n",
    "    'Kazakhstan': 'Asia', # Transcontinental, mostly Asia\n",
    "    'Kenya': 'Africa',\n",
    "    'Korea Rep.': 'Asia',\n",
    "    'Latvia': 'Europe',\n",
    "    'Lesotho': 'Africa',\n",
    "    'Lithuania': 'Europe',\n",
    "    'Luxembourg': 'Europe',\n",
    "    'Macao': 'Asia',\n",
    "    'Malaysia': 'Asia',\n",
    "    'Malta': 'Europe',\n",
    "    'Mauritania': 'Africa',\n",
    "    'Mauritius': 'Africa',\n",
    "    'Mexico': 'North America',\n",
    "    'Moldova': 'Europe',\n",
    "    'Montenegro': 'Europe',\n",
    "    'Morocco': 'Africa',\n",
    "    'Mozambique': 'Africa',\n",
    "    'Namibia': 'Africa',\n",
    "    'Netherlands': 'Europe',\n",
    "    'New Zealand': 'Oceania',\n",
    "    'Nicaragua': 'North America',\n",
    "    'Niger': 'Africa',\n",
    "    'North Macedonia': 'Europe',\n",
    "    'Norway': 'Europe',\n",
    "    'Pakistan': 'Asia',\n",
    "    'Panama': 'North America',\n",
    "    'Paraguay': 'South America',\n",
    "    'Peru': 'South America',\n",
    "    'Philippines': 'Asia',\n",
    "    'Poland': 'Europe',\n",
    "    'Portugal': 'Europe',\n",
    "    'Romania': 'Europe',\n",
    "    'Samoa': 'Oceania',\n",
    "    'Saudi Arabia': 'Asia',\n",
    "    'Senegal': 'Africa',\n",
    "    'Singapore': 'Asia',\n",
    "    'Slovak Republic': 'Europe',\n",
    "    'Slovenia': 'Europe',\n",
    "    'South Africa': 'Africa',\n",
    "    'Spain': 'Europe',\n",
    "    'Sri Lanka': 'Asia',\n",
    "    'Sweden': 'Europe',\n",
    "    'Switzerland': 'Europe',\n",
    "    'Tanzania': 'Africa',\n",
    "    'Thailand': 'Asia',\n",
    "    'Timor-Leste': 'Asia',\n",
    "    'Tunisia': 'Africa',\n",
    "    'Turkiye': 'Asia', # Transcontinental, mostly Asia\n",
    "    'Uganda': 'Africa',\n",
    "    'Ukraine': 'Europe',\n",
    "    'United Kingdom': 'Europe',\n",
    "    'United States': 'North America',\n",
    "    'Uruguay': 'South America',\n",
    "    'Uzbekistan': 'Asia',\n",
    "    'Zambia': 'Africa'\n",
    "}\n"
   ]
  },
  {
   "cell_type": "markdown",
   "metadata": {
    "id": "ZD63i3iqkzPJ"
   },
   "source": [
    "### Pregunta 2.13\n",
    "\n",
    "Realice un PCA de 2 componentes principales, grafique un _scatterplot_ del resultado y coloree cada punto según su continente. ¿Que se obserba?\n"
   ]
  },
  {
   "cell_type": "code",
   "execution_count": null,
   "metadata": {
    "id": "6b4jB-gMoeZF"
   },
   "outputs": [],
   "source": []
  },
  {
   "cell_type": "markdown",
   "metadata": {
    "id": "xktT1YAaoc0U"
   },
   "source": [
    "---\n",
    "\n",
    "\n",
    "*Escriba* su respuesta en esta celda...\n",
    "\n",
    "\n",
    "---"
   ]
  },
  {
   "cell_type": "markdown",
   "metadata": {
    "id": "b3y-DTSBk6fj"
   },
   "source": [
    "### Pregunta 2.14\n",
    "\n",
    "Genera el mismo gráfico anterior, pero ahora coloree los puntos del scatterplot usando los clusters de un KMeans de 3 clústers y `random_state=42`. Describa los clusters según el gráfico.\n",
    "\n"
   ]
  },
  {
   "cell_type": "code",
   "execution_count": null,
   "metadata": {
    "id": "GUd3NBLBogw8"
   },
   "outputs": [],
   "source": []
  },
  {
   "cell_type": "markdown",
   "metadata": {
    "id": "lDcgO6Kjog5d"
   },
   "source": [
    "---\n",
    "\n",
    "\n",
    "*Escriba* su respuesta en esta celda...\n",
    "\n",
    "\n",
    "---"
   ]
  },
  {
   "cell_type": "markdown",
   "metadata": {
    "id": "6DweNXvelFJf"
   },
   "source": [
    "### Pregunta 2.15\n",
    "\n",
    "¿Cual es la proporcion de cada cluster por continente?\n"
   ]
  },
  {
   "cell_type": "code",
   "execution_count": null,
   "metadata": {
    "id": "348X2JFCok78"
   },
   "outputs": [],
   "source": []
  },
  {
   "cell_type": "markdown",
   "metadata": {
    "id": "TGbwOcfilNON"
   },
   "source": [
    "### Pregunta 2.16\n",
    "\n",
    "¿Cuál es la característica numérica más alta en magnitud por cluster (usando sus centroides)? ¿Cuál es su signo? ¿Como nos ayuda a interpretar los clusters? ¿Que podemos concluir de cada uno de estos clusters en contexto de la guerra comercial?\n"
   ]
  },
  {
   "cell_type": "code",
   "execution_count": null,
   "metadata": {
    "id": "R-mbOcOQomp-"
   },
   "outputs": [],
   "source": []
  },
  {
   "cell_type": "markdown",
   "metadata": {
    "id": "3xP0vls6omw4"
   },
   "source": [
    "---\n",
    "\n",
    "\n",
    "*Escriba* su respuesta en esta celda...\n",
    "\n",
    "\n",
    "---"
   ]
  }
 ],
 "metadata": {
  "colab": {
   "provenance": [],
   "toc_visible": true
  },
  "kernelspec": {
   "display_name": "Python 3 (ipykernel)",
   "language": "python",
   "name": "python3"
  },
  "language_info": {
   "codemirror_mode": {
    "name": "ipython",
    "version": 3
   },
   "file_extension": ".py",
   "mimetype": "text/x-python",
   "name": "python",
   "nbconvert_exporter": "python",
   "pygments_lexer": "ipython3",
   "version": "3.11.4"
  }
 },
 "nbformat": 4,
 "nbformat_minor": 1
}
