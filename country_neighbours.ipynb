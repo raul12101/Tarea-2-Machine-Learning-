{
 "cells": [
  {
   "cell_type": "code",
   "execution_count": 18,
   "id": "122e6ca0-05cb-4b0a-a00c-d4f3995ec035",
   "metadata": {},
   "outputs": [],
   "source": [
    "import pandas as pd\n",
    "import numpy as np\n",
    "import geopandas as gpd\n",
    "import json"
   ]
  },
  {
   "cell_type": "code",
   "execution_count": 2,
   "id": "42c3d457-39cd-4aca-867e-a3ad59e80980",
   "metadata": {},
   "outputs": [],
   "source": [
    "#Importamos el url\n",
    "url = \"https://raw.githubusercontent.com/olherreragz/EAE3709-2025-1/refs/heads/main/T2_data/Data.csv\"\n",
    "df = pd.read_csv(url)"
   ]
  },
  {
   "cell_type": "code",
   "execution_count": 3,
   "id": "d79eb0ad-2550-4ffa-898f-2c2875a2b563",
   "metadata": {},
   "outputs": [],
   "source": [
    "#Eliminamos las columnas\n",
    "df.drop(columns=['Country Code', 'Series Code'], inplace=True)"
   ]
  },
  {
   "cell_type": "code",
   "execution_count": 4,
   "id": "3a8556b7-2683-40a8-b024-574b213904af",
   "metadata": {},
   "outputs": [],
   "source": [
    "# Transformamos de long a wide\n",
    "df = df.pivot(index=\"Country Name\", columns=\"Series Name\", values=\"2023 [YR2023]\")"
   ]
  },
  {
   "cell_type": "code",
   "execution_count": 5,
   "id": "991bec20-ebcc-417b-b833-3a9982eff4a4",
   "metadata": {},
   "outputs": [],
   "source": [
    "# Dejamos una columna de índice para tener disponible la de Pais.\n",
    "df.reset_index(inplace=True)"
   ]
  },
  {
   "cell_type": "code",
   "execution_count": 6,
   "id": "b246885f-9334-45a8-a327-b7922cdc3ff3",
   "metadata": {},
   "outputs": [],
   "source": [
    "elim_list = \"\"\" - \"Africa Eastern and Southern\"  \n",
    "- \"Africa Western and Central\"  \n",
    "- \"Arab World\"  \n",
    "- \"Caribbean small states\"  \n",
    "- \"Central Europe and the Baltics\"  \n",
    "- \"Early-demographic dividend\"  \n",
    "- \"East Asia & Pacific\"  \n",
    "- \"East Asia & Pacific (IDA & IBRD countries)\"  \n",
    "- \"East Asia & Pacific (excluding high income)\"  \n",
    "- \"Euro area\"  \n",
    "- \"Europe & Central Asia\"  \n",
    "- \"Europe & Central Asia (IDA & IBRD countries)\"  \n",
    "- \"Europe & Central Asia (excluding high income)\"  \n",
    "- \"European Union\"  \n",
    "- \"Fragile and conflict affected situations\"  \n",
    "- \"Heavily indebted poor countries (HIPC)\"  \n",
    "- \"High income\"  \n",
    "- \"IBRD only\"  \n",
    "- \"IDA & IBRD total\"  \n",
    "- \"IDA blend\"  \n",
    "- \"IDA only\"  \n",
    "- \"IDA total\"  \n",
    "- \"Late-demographic dividend\"  \n",
    "- \"Latin America & Caribbean\"  \n",
    "- \"Latin America & Caribbean (excluding high income)\"  \n",
    "- \"Latin America & the Caribbean (IDA & IBRD countries)\"  \n",
    "- \"Least developed countries: UN classification\"  \n",
    "- \"Low & middle income\"  \n",
    "- \"Low income\"  \n",
    "- \"Lower middle income\"  \n",
    "- \"Middle East & North Africa\"  \n",
    "- \"Middle East & North Africa (IDA & IBRD countries)\"  \n",
    "- \"Middle East & North Africa (excluding high income)\"  \n",
    "- \"Middle income\"  \n",
    "- \"North America\"  \n",
    "- \"Not classified\"  \n",
    "- \"OECD members\"  \n",
    "- \"Other small states\"  \n",
    "- \"Pacific island small states\"  \n",
    "- \"Post-demographic dividend\"  \n",
    "- \"Pre-demographic dividend\"  \n",
    "- \"Small states\"  \n",
    "- \"South Asia\"  \n",
    "- \"South Asia (IDA & IBRD)\"  \n",
    "- \"Sub-Saharan Africa\"  \n",
    "- \"Sub-Saharan Africa (IDA & IBRD countries)\"  \n",
    "- \"Sub-Saharan Africa (excluding high income)\"  \n",
    "- \"Upper middle income\"  \n",
    "- \"World\" \"\"\"\n"
   ]
  },
  {
   "cell_type": "code",
   "execution_count": 7,
   "id": "0719ef02-0800-438e-aa5c-49f490f82679",
   "metadata": {},
   "outputs": [],
   "source": [
    "# for entry in elim_list: Primero separa a cada país eliminando \\n\n",
    "# Luego, remueve '-' y despues las \"\"\"\", solo si hay algo (if entry).\n",
    "\n",
    "elim_list = [entry.strip('- ').strip('\"') for entry in elim_list.split(\"\\n\") if entry]"
   ]
  },
  {
   "cell_type": "code",
   "execution_count": 8,
   "id": "ddc4cecc-5929-44ca-9a5d-859f4cea5ef1",
   "metadata": {},
   "outputs": [],
   "source": [
    "# eliminamos las columnas\n",
    "df = df[~df[\"Country Name\"].isin(elim_list)]"
   ]
  },
  {
   "cell_type": "code",
   "execution_count": 9,
   "id": "d5be7a54-4484-43d2-9624-d9723b52b2cc",
   "metadata": {},
   "outputs": [],
   "source": [
    "df = df.replace(\"..\", np.nan)"
   ]
  },
  {
   "cell_type": "code",
   "execution_count": 10,
   "id": "41f647dd-e1d8-4482-a263-e473dca201aa",
   "metadata": {},
   "outputs": [],
   "source": [
    "df[df.columns[1:]] = df[df.columns[1:]].apply(pd.to_numeric, errors=\"coerce\")"
   ]
  },
  {
   "cell_type": "code",
   "execution_count": 11,
   "id": "1261c3cf-56b9-435e-9762-e173dc734dd8",
   "metadata": {},
   "outputs": [],
   "source": [
    "df.drop(columns=\"International tourism; receipts (% of total exports)\", inplace=True)"
   ]
  },
  {
   "cell_type": "code",
   "execution_count": 12,
   "id": "37e81f43-d382-4e0d-b003-237473b01efe",
   "metadata": {
    "scrolled": true
   },
   "outputs": [
    {
     "name": "stdout",
     "output_type": "stream",
     "text": [
      "Available columns: ['name', 'ISO3166-1-Alpha-3', 'ISO3166-1-Alpha-2', 'geometry']\n",
      "{'Indonesia': ['Malaysia', 'East Timor', 'Papua New Guinea'], 'Malaysia': ['Indonesia', 'Thailand', 'Brunei'], 'Chile': ['Bolivia', 'Peru', 'Argentina', 'Southern Patagonian Ice Field'], 'Bolivia': ['Chile', 'Peru', 'Argentina', 'Brazil', 'Paraguay'], 'Peru': ['Chile', 'Bolivia', 'Brazil', 'Ecuador', 'Colombia'], 'Argentina': ['Chile', 'Bolivia', 'Brazil', 'Uruguay', 'Paraguay', 'Brazilian Island', 'Southern Patagonian Ice Field'], 'Dhekelia Sovereign Base Area': ['Cyprus', 'Northern Cyprus', 'Cyprus No Mans Area'], 'Cyprus': ['Dhekelia Sovereign Base Area', 'Cyprus No Mans Area', 'Akrotiri Sovereign Base Area'], 'India': ['China', 'Bhutan', 'Pakistan', 'Myanmar', 'Bangladesh', 'Nepal', 'Siachen Glacier'], 'China': ['India', 'North Korea', 'Bhutan', 'Kazakhstan', 'Tajikistan', 'Mongolia', 'Russia', 'Vietnam', 'Laos', 'Kyrgyzstan', 'Pakistan', 'Myanmar', 'Afghanistan', 'Nepal', 'Hong Kong S.A.R.', 'Siachen Glacier'], 'Israel': ['Palestine', 'Lebanon', 'Syria', 'Jordan', 'Egypt'], 'Palestine': ['Israel', 'Jordan', 'Egypt'], 'Lebanon': ['Israel', 'Syria'], 'Ethiopia': ['South Sudan', 'Somalia', 'Kenya', 'Somaliland', 'Sudan', 'Djibouti', 'Eritrea'], 'South Sudan': ['Ethiopia', 'Kenya', 'Democratic Republic of the Congo', 'Central African Republic', 'Sudan', 'Uganda'], 'Somalia': ['Ethiopia', 'Kenya', 'Somaliland'], 'Kenya': ['Ethiopia', 'South Sudan', 'Somalia', 'United Republic of Tanzania', 'Uganda'], 'Malawi': ['United Republic of Tanzania', 'Zambia', 'Mozambique'], 'United Republic of Tanzania': ['Kenya', 'Malawi', 'Democratic Republic of the Congo', 'Zambia', 'Mozambique', 'Burundi', 'Rwanda', 'Uganda'], 'Syria': ['Israel', 'Lebanon', 'Turkey', 'Iraq', 'Jordan'], 'Somaliland': ['Ethiopia', 'Somalia', 'Djibouti'], 'France': ['Suriname', 'Brazil', 'Germany', 'Luxembourg', 'Belgium', 'Spain', 'Italy', 'Switzerland', 'Monaco', 'Andorra'], 'Suriname': ['France', 'Guyana', 'Brazil'], 'Guyana': ['Suriname', 'Brazil', 'Venezuela'], 'South Korea': ['North Korea'], 'North Korea': ['China', 'South Korea', 'Russia'], 'Morocco': ['Western Sahara', 'Spain', 'Algeria'], 'Western Sahara': ['Morocco', 'Algeria', 'Mauritania'], 'Costa Rica': ['Nicaragua', 'Panama'], 'Nicaragua': ['Costa Rica', 'Honduras'], 'Republic of the Congo': ['Democratic Republic of the Congo', 'Central African Republic', 'Angola', 'Cameroon', 'Gabon'], 'Democratic Republic of the Congo': ['South Sudan', 'United Republic of Tanzania', 'Republic of the Congo', 'Zambia', 'Central African Republic', 'Angola', 'Burundi', 'Rwanda', 'Uganda'], 'Bhutan': ['India', 'China'], 'Ukraine': ['Belarus', 'Russia', 'Romania', 'Hungary', 'Slovakia', 'Poland', 'Moldova'], 'Belarus': ['Ukraine', 'Lithuania', 'Russia', 'Latvia', 'Poland'], 'Namibia': ['South Africa', 'Zambia', 'Angola', 'Botswana', 'Zimbabwe'], 'South Africa': ['Namibia', 'Botswana', 'Zimbabwe', 'Mozambique', 'eSwatini', 'Lesotho'], 'Saint Martin': ['Sint Maarten'], 'Sint Maarten': ['Saint Martin'], 'Oman': ['United Arab Emirates', 'Saudi Arabia', 'Yemen'], 'Uzbekistan': ['Kazakhstan', 'Tajikistan', 'Kyrgyzstan', 'Afghanistan', 'Turkmenistan'], 'Kazakhstan': ['China', 'Uzbekistan', 'Russia', 'Kyrgyzstan', 'Turkmenistan', 'Baykonur Cosmodrome'], 'Tajikistan': ['China', 'Uzbekistan', 'Kyrgyzstan', 'Afghanistan'], 'Lithuania': ['Belarus', 'Russia', 'Latvia', 'Poland'], 'Brazil': ['Bolivia', 'Peru', 'Argentina', 'France', 'Suriname', 'Guyana', 'Uruguay', 'Colombia', 'Paraguay', 'Brazilian Island', 'Venezuela'], 'Uruguay': ['Argentina', 'Brazil', 'Brazilian Island'], 'Mongolia': ['China', 'Russia'], 'Russia': ['China', 'North Korea', 'Ukraine', 'Belarus', 'Kazakhstan', 'Lithuania', 'Mongolia', 'Estonia', 'Latvia', 'Norway', 'Finland', 'Georgia', 'Azerbaijan', 'Poland'], 'Czechia': ['Germany', 'Slovakia', 'Poland', 'Austria'], 'Germany': ['France', 'Czechia', 'Luxembourg', 'Belgium', 'Denmark', 'Poland', 'Austria', 'Switzerland', 'Netherlands'], 'Estonia': ['Russia', 'Latvia'], 'Latvia': ['Belarus', 'Lithuania', 'Russia', 'Estonia'], 'Norway': ['Russia', 'Sweden', 'Finland'], 'Sweden': ['Norway', 'Finland'], 'Finland': ['Russia', 'Norway', 'Sweden'], 'Vietnam': ['China', 'Cambodia', 'Laos'], 'Cambodia': ['Vietnam', 'Laos', 'Thailand'], 'Luxembourg': ['France', 'Germany', 'Belgium'], 'United Arab Emirates': ['Oman', 'Saudi Arabia'], 'Belgium': ['France', 'Germany', 'Luxembourg', 'Netherlands'], 'Georgia': ['Russia', 'Azerbaijan', 'Turkey', 'Armenia'], 'North Macedonia': ['Albania', 'Kosovo', 'Greece', 'Republic of Serbia', 'Bulgaria'], 'Albania': ['North Macedonia', 'Kosovo', 'Greece', 'Montenegro'], 'Azerbaijan': ['Russia', 'Georgia', 'Turkey', 'Armenia', 'Iran'], 'Kosovo': ['North Macedonia', 'Albania', 'Republic of Serbia', 'Montenegro'], 'Turkey': ['Syria', 'Georgia', 'Azerbaijan', 'Armenia', 'Greece', 'Iraq', 'Iran', 'Bulgaria'], 'Spain': ['France', 'Morocco', 'Andorra', 'Portugal', 'Gibraltar'], 'Laos': ['China', 'Vietnam', 'Cambodia', 'Thailand', 'Myanmar'], 'Kyrgyzstan': ['China', 'Uzbekistan', 'Kazakhstan', 'Tajikistan'], 'Armenia': ['Georgia', 'Azerbaijan', 'Turkey', 'Iran'], 'Denmark': ['Germany'], 'Libya': ['Tunisia', 'Sudan', 'Chad', 'Algeria', 'Niger', 'Egypt'], 'Tunisia': ['Libya', 'Algeria'], 'Romania': ['Ukraine', 'Hungary', 'Republic of Serbia', 'Bulgaria', 'Moldova'], 'Hungary': ['Ukraine', 'Romania', 'Slovakia', 'Austria', 'Republic of Serbia', 'Croatia', 'Slovenia'], 'Slovakia': ['Ukraine', 'Czechia', 'Hungary', 'Poland', 'Austria'], 'Poland': ['Ukraine', 'Belarus', 'Lithuania', 'Russia', 'Czechia', 'Germany', 'Slovakia'], 'Ireland': ['United Kingdom'], 'United Kingdom': ['Ireland'], 'Greece': ['North Macedonia', 'Albania', 'Turkey', 'Bulgaria'], 'Zambia': ['Malawi', 'United Republic of Tanzania', 'Democratic Republic of the Congo', 'Namibia', 'Angola', 'Botswana', 'Zimbabwe', 'Mozambique'], 'Sierra Leone': ['Guinea', 'Liberia'], 'Guinea': ['Sierra Leone', 'Liberia', 'Ivory Coast', 'Mali', 'Senegal', 'Guinea-Bissau'], 'Liberia': ['Sierra Leone', 'Guinea', 'Ivory Coast'], 'Central African Republic': ['South Sudan', 'Republic of the Congo', 'Democratic Republic of the Congo', 'Sudan', 'Chad', 'Cameroon'], 'Sudan': ['Ethiopia', 'South Sudan', 'Libya', 'Central African Republic', 'Eritrea', 'Chad', 'Egypt', 'Bir Tawil'], 'Djibouti': ['Ethiopia', 'Somaliland', 'Eritrea'], 'Eritrea': ['Ethiopia', 'Sudan', 'Djibouti'], 'Austria': ['Czechia', 'Germany', 'Hungary', 'Slovakia', 'Italy', 'Switzerland', 'Liechtenstein', 'Slovenia'], 'Iraq': ['Syria', 'Turkey', 'Iran', 'Saudi Arabia', 'Kuwait', 'Jordan'], 'Italy': ['France', 'Austria', 'Switzerland', 'Slovenia', 'San Marino', 'Vatican'], 'Switzerland': ['France', 'Germany', 'Austria', 'Italy', 'Liechtenstein'], 'Iran': ['Azerbaijan', 'Turkey', 'Armenia', 'Iraq', 'Pakistan', 'Afghanistan', 'Turkmenistan'], 'Netherlands': ['Germany', 'Belgium'], 'Liechtenstein': ['Austria', 'Switzerland'], 'Ivory Coast': ['Guinea', 'Liberia', 'Mali', 'Burkina Faso', 'Ghana'], 'Republic of Serbia': ['North Macedonia', 'Kosovo', 'Romania', 'Hungary', 'Croatia', 'Bulgaria', 'Montenegro', 'Bosnia and Herzegovina'], 'Mali': ['Guinea', 'Ivory Coast', 'Senegal', 'Algeria', 'Niger', 'Burkina Faso', 'Mauritania'], 'Senegal': ['Guinea', 'Mali', 'Guinea-Bissau', 'Mauritania', 'Gambia'], 'Nigeria': ['Benin', 'Chad', 'Cameroon', 'Niger'], 'Benin': ['Nigeria', 'Niger', 'Burkina Faso', 'Togo'], 'Angola': ['Republic of the Congo', 'Democratic Republic of the Congo', 'Namibia', 'Zambia'], 'Croatia': ['Hungary', 'Republic of Serbia', 'Slovenia', 'Montenegro', 'Bosnia and Herzegovina'], 'Slovenia': ['Hungary', 'Austria', 'Italy', 'Croatia'], 'Qatar': ['Saudi Arabia'], 'Saudi Arabia': ['Oman', 'United Arab Emirates', 'Iraq', 'Qatar', 'Kuwait', 'Jordan', 'Yemen'], 'Botswana': ['Namibia', 'South Africa', 'Zambia', 'Zimbabwe'], 'Zimbabwe': ['Namibia', 'South Africa', 'Zambia', 'Botswana', 'Mozambique'], 'Pakistan': ['India', 'China', 'Iran', 'Afghanistan', 'Siachen Glacier'], 'Bulgaria': ['North Macedonia', 'Turkey', 'Romania', 'Greece', 'Republic of Serbia'], 'Thailand': ['Malaysia', 'Cambodia', 'Laos', 'Myanmar'], 'San Marino': ['Italy'], 'Haiti': ['Dominican Republic'], 'Dominican Republic': ['Haiti'], 'Chad': ['Libya', 'Central African Republic', 'Sudan', 'Nigeria', 'Cameroon', 'Niger'], 'Kuwait': ['Iraq', 'Saudi Arabia'], 'El Salvador': ['Guatemala', 'Honduras'], 'Guatemala': ['El Salvador', 'Honduras', 'Mexico', 'Belize'], 'East Timor': ['Indonesia'], 'Brunei': ['Malaysia'], 'Monaco': ['France'], 'Algeria': ['Morocco', 'Western Sahara', 'Libya', 'Tunisia', 'Mali', 'Niger', 'Mauritania'], 'Mozambique': ['Malawi', 'United Republic of Tanzania', 'South Africa', 'Zambia', 'Zimbabwe', 'eSwatini'], 'eSwatini': ['South Africa', 'Mozambique'], 'Burundi': ['United Republic of Tanzania', 'Democratic Republic of the Congo', 'Rwanda'], 'Rwanda': ['United Republic of Tanzania', 'Democratic Republic of the Congo', 'Burundi', 'Uganda'], 'Myanmar': ['India', 'China', 'Laos', 'Thailand', 'Bangladesh'], 'Bangladesh': ['India', 'Myanmar'], 'Andorra': ['France', 'Spain'], 'Afghanistan': ['China', 'Uzbekistan', 'Tajikistan', 'Iran', 'Pakistan', 'Turkmenistan'], 'Montenegro': ['Albania', 'Kosovo', 'Republic of Serbia', 'Croatia', 'Bosnia and Herzegovina'], 'Bosnia and Herzegovina': ['Republic of Serbia', 'Croatia', 'Montenegro'], 'Uganda': ['South Sudan', 'Kenya', 'United Republic of Tanzania', 'Democratic Republic of the Congo', 'Rwanda'], 'US Naval Base Guantanamo Bay': ['Cuba'], 'Cuba': ['US Naval Base Guantanamo Bay'], 'Honduras': ['Nicaragua', 'El Salvador', 'Guatemala'], 'Ecuador': ['Peru', 'Colombia'], 'Colombia': ['Peru', 'Brazil', 'Ecuador', 'Panama', 'Venezuela'], 'Paraguay': ['Bolivia', 'Argentina', 'Brazil'], 'Brazilian Island': ['Argentina', 'Brazil', 'Uruguay'], 'Portugal': ['Spain'], 'Moldova': ['Ukraine', 'Romania'], 'Turkmenistan': ['Uzbekistan', 'Kazakhstan', 'Iran', 'Afghanistan'], 'Jordan': ['Israel', 'Palestine', 'Syria', 'Iraq', 'Saudi Arabia'], 'Nepal': ['India', 'China'], 'Lesotho': ['South Africa'], 'Cameroon': ['Republic of the Congo', 'Central African Republic', 'Nigeria', 'Chad', 'Gabon', 'Equatorial Guinea'], 'Gabon': ['Republic of the Congo', 'Cameroon', 'Equatorial Guinea'], 'Niger': ['Libya', 'Mali', 'Nigeria', 'Benin', 'Chad', 'Algeria', 'Burkina Faso'], 'Burkina Faso': ['Ivory Coast', 'Mali', 'Benin', 'Niger', 'Togo', 'Ghana'], 'Togo': ['Benin', 'Burkina Faso', 'Ghana'], 'Ghana': ['Ivory Coast', 'Burkina Faso', 'Togo'], 'Guinea-Bissau': ['Guinea', 'Senegal'], 'Gibraltar': ['Spain'], 'United States of America': ['Canada', 'Mexico'], 'Canada': ['United States of America'], 'Mexico': ['Guatemala', 'United States of America', 'Belize'], 'Belize': ['Guatemala', 'Mexico'], 'Panama': ['Costa Rica', 'Colombia'], 'Venezuela': ['Guyana', 'Brazil', 'Colombia'], 'Papua New Guinea': ['Indonesia'], 'Egypt': ['Israel', 'Palestine', 'Libya', 'Sudan', 'Bir Tawil'], 'Yemen': ['Oman', 'Saudi Arabia'], 'Mauritania': ['Western Sahara', 'Mali', 'Senegal', 'Algeria'], 'Equatorial Guinea': ['Cameroon', 'Gabon'], 'Gambia': ['Senegal'], 'Hong Kong S.A.R.': ['China'], 'Vatican': ['Italy'], 'Northern Cyprus': ['Dhekelia Sovereign Base Area', 'Cyprus No Mans Area'], 'Cyprus No Mans Area': ['Dhekelia Sovereign Base Area', 'Cyprus', 'Northern Cyprus'], 'Siachen Glacier': ['India', 'China', 'Pakistan'], 'Baykonur Cosmodrome': ['Kazakhstan'], 'Akrotiri Sovereign Base Area': ['Cyprus'], 'Southern Patagonian Ice Field': ['Chile', 'Argentina'], 'Bir Tawil': ['Sudan', 'Egypt'], 'Antarctica': [], 'Australia': [], 'Greenland': [], 'Fiji': [], 'New Zealand': [], 'New Caledonia': [], 'Madagascar': [], 'Philippines': [], 'Sri Lanka': [], 'Curaçao': [], 'Aruba': [], 'The Bahamas': [], 'Turks and Caicos Islands': [], 'Taiwan': [], 'Japan': [], 'Saint Pierre and Miquelon': [], 'Iceland': [], 'Pitcairn Islands': [], 'French Polynesia': [], 'French Southern and Antarctic Lands': [], 'Seychelles': [], 'Kiribati': [], 'Marshall Islands': [], 'Trinidad and Tobago': [], 'Grenada': [], 'Saint Vincent and the Grenadines': [], 'Barbados': [], 'Saint Lucia': [], 'Dominica': [], 'United States Minor Outlying Islands': [], 'Montserrat': [], 'Antigua and Barbuda': [], 'Saint Kitts and Nevis': [], 'United States Virgin Islands': [], 'Saint Barthelemy': [], 'Puerto Rico': [], 'Anguilla': [], 'British Virgin Islands': [], 'Jamaica': [], 'Cayman Islands': [], 'Bermuda': [], 'Heard Island and McDonald Islands': [], 'Saint Helena': [], 'Mauritius': [], 'Comoros': [], 'São Tomé and Principe': [], 'Cabo Verde': [], 'Malta': [], 'Jersey': [], 'Guernsey': [], 'Isle of Man': [], 'Aland': [], 'Faroe Islands': [], 'Indian Ocean Territories': [], 'British Indian Ocean Territory': [], 'Singapore': [], 'Norfolk Island': [], 'Cook Islands': [], 'Tonga': [], 'Wallis and Futuna': [], 'Samoa': [], 'Solomon Islands': [], 'Tuvalu': [], 'Maldives': [], 'Nauru': [], 'Federated States of Micronesia': [], 'South Georgia and the Islands': [], 'Falkland Islands': [], 'Vanuatu': [], 'Niue': [], 'American Samoa': [], 'Palau': [], 'Guam': [], 'Northern Mariana Islands': [], 'Bahrain': [], 'Coral Sea Islands': [], 'Spratly Islands': [], 'Clipperton Island': [], 'Macao S.A.R': [], 'Ashmore and Cartier Islands': [], 'Bajo Nuevo Bank (Petrel Is.)': [], 'Serranilla Bank': [], 'Scarborough Reef': []}\n"
     ]
    }
   ],
   "source": [
    "# Load GeoJSON file containing country boundaries\n",
    "url = \"https://raw.githubusercontent.com/datasets/geo-countries/master/data/countries.geojson\"\n",
    "world = gpd.read_file(url)\n",
    "\n",
    "# Print column names to see what's available\n",
    "print(\"Available columns:\", world.columns.tolist())\n",
    "\n",
    "# Create an empty dictionary for neighboring countries\n",
    "neighbour_dict = {}\n",
    "\n",
    "# Find neighbors by checking shared borders\n",
    "for index, country in world.iterrows():\n",
    "    # Use 'name' instead of 'ADMIN' as it's the correct column name in this dataset\n",
    "    country_name = country['name']  # Changed from 'ADMIN' to 'name'\n",
    "    neighbours = world[world.touches(country.geometry)]['name'].tolist()  # Changed here too\n",
    "    neighbour_dict[country_name] = neighbours\n",
    "\n",
    "# Print the dictionary of neighboring countries\n",
    "print(neighbour_dict)"
   ]
  },
  {
   "cell_type": "code",
   "execution_count": 13,
   "id": "847c1963-e97c-49bd-9666-514df977d155",
   "metadata": {},
   "outputs": [
    {
     "data": {
      "text/plain": [
       "['Suriname',\n",
       " 'Brazil',\n",
       " 'Germany',\n",
       " 'Luxembourg',\n",
       " 'Belgium',\n",
       " 'Spain',\n",
       " 'Italy',\n",
       " 'Switzerland',\n",
       " 'Monaco',\n",
       " 'Andorra']"
      ]
     },
     "execution_count": 13,
     "metadata": {},
     "output_type": "execute_result"
    }
   ],
   "source": [
    "neighbour_dict.get(\"France\")"
   ]
  },
  {
   "cell_type": "code",
   "execution_count": 14,
   "id": "02c1a207-a4da-4c36-9012-5770d1d9fb59",
   "metadata": {},
   "outputs": [
    {
     "data": {
      "text/plain": [
       "['France', 'Guyana', 'Brazil']"
      ]
     },
     "execution_count": 14,
     "metadata": {},
     "output_type": "execute_result"
    }
   ],
   "source": [
    "neighbour_dict.get(\"Suriname\")"
   ]
  },
  {
   "cell_type": "code",
   "execution_count": 15,
   "id": "ed66cca2-796a-4954-9be4-340cf60e5c6a",
   "metadata": {},
   "outputs": [],
   "source": [
    "neighbour_dict[\"France\"].remove(\"Suriname\")"
   ]
  },
  {
   "cell_type": "code",
   "execution_count": 16,
   "id": "f861611c-d811-498d-a4b2-74f78e8d93cb",
   "metadata": {},
   "outputs": [],
   "source": [
    "neighbour_dict[\"Suriname\"].remove(\"France\")"
   ]
  },
  {
   "cell_type": "code",
   "execution_count": 20,
   "id": "118c7582-3ee2-4d04-a688-7f8f7cfd99ef",
   "metadata": {},
   "outputs": [],
   "source": [
    "with open(\"country_neighbours.json\", \"w\") as f:\n",
    "    json.dump(neighbour_dict, f, indent=4)"
   ]
  }
 ],
 "metadata": {
  "kernelspec": {
   "display_name": "Python [conda env:base] *",
   "language": "python",
   "name": "conda-base-py"
  },
  "language_info": {
   "codemirror_mode": {
    "name": "ipython",
    "version": 3
   },
   "file_extension": ".py",
   "mimetype": "text/x-python",
   "name": "python",
   "nbconvert_exporter": "python",
   "pygments_lexer": "ipython3",
   "version": "3.11.9"
  }
 },
 "nbformat": 4,
 "nbformat_minor": 5
}
